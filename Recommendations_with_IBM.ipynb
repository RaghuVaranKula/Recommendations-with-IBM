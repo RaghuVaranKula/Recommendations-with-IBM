{
 "cells": [
  {
   "cell_type": "markdown",
   "metadata": {},
   "source": [
    "# Recommendations with IBM\n",
    "\n",
    "In this notebook, you will be putting your recommendation skills to use on real data from the IBM Watson Studio platform. \n",
    "\n",
    "\n",
    "You may either submit your notebook through the workspace here, or you may work from your local machine and submit through the next page.  Either way assure that your code passes the project [RUBRIC](https://review.udacity.com/#!/rubrics/3325/view).  **Please save regularly.**\n",
    "\n",
    "By following the table of contents, you will build out a number of different methods for making recommendations that can be used for different situations. \n",
    "\n",
    "\n",
    "## Table of Contents\n",
    "\n",
    "I. [Exploratory Data Analysis](#Exploratory-Data-Analysis)<br>\n",
    "II. [Rank Based Recommendations](#Rank)<br>\n",
    "III. [User-User Based Collaborative Filtering](#User-User)<br>\n",
    "IV. [Content Based Recommendations (EXTRA - NOT REQUIRED)](#Content-Recs)<br>\n",
    "V. [Matrix Factorization](#Matrix-Fact)<br>\n",
    "VI. [Extras & Concluding](#conclusions)\n",
    "\n",
    "At the end of the notebook, you will find directions for how to submit your work.  Let's get started by importing the necessary libraries and reading in the data."
   ]
  },
  {
   "cell_type": "code",
   "execution_count": 1,
   "metadata": {},
   "outputs": [
    {
     "data": {
      "text/html": [
       "<div>\n",
       "<style scoped>\n",
       "    .dataframe tbody tr th:only-of-type {\n",
       "        vertical-align: middle;\n",
       "    }\n",
       "\n",
       "    .dataframe tbody tr th {\n",
       "        vertical-align: top;\n",
       "    }\n",
       "\n",
       "    .dataframe thead th {\n",
       "        text-align: right;\n",
       "    }\n",
       "</style>\n",
       "<table border=\"1\" class=\"dataframe\">\n",
       "  <thead>\n",
       "    <tr style=\"text-align: right;\">\n",
       "      <th></th>\n",
       "      <th>article_id</th>\n",
       "      <th>title</th>\n",
       "      <th>email</th>\n",
       "    </tr>\n",
       "  </thead>\n",
       "  <tbody>\n",
       "    <tr>\n",
       "      <th>0</th>\n",
       "      <td>1430.0</td>\n",
       "      <td>using pixiedust for fast, flexible, and easier...</td>\n",
       "      <td>ef5f11f77ba020cd36e1105a00ab868bbdbf7fe7</td>\n",
       "    </tr>\n",
       "    <tr>\n",
       "      <th>1</th>\n",
       "      <td>1314.0</td>\n",
       "      <td>healthcare python streaming application demo</td>\n",
       "      <td>083cbdfa93c8444beaa4c5f5e0f5f9198e4f9e0b</td>\n",
       "    </tr>\n",
       "    <tr>\n",
       "      <th>2</th>\n",
       "      <td>1429.0</td>\n",
       "      <td>use deep learning for image classification</td>\n",
       "      <td>b96a4f2e92d8572034b1e9b28f9ac673765cd074</td>\n",
       "    </tr>\n",
       "    <tr>\n",
       "      <th>3</th>\n",
       "      <td>1338.0</td>\n",
       "      <td>ml optimization using cognitive assistant</td>\n",
       "      <td>06485706b34a5c9bf2a0ecdac41daf7e7654ceb7</td>\n",
       "    </tr>\n",
       "    <tr>\n",
       "      <th>4</th>\n",
       "      <td>1276.0</td>\n",
       "      <td>deploy your python model as a restful api</td>\n",
       "      <td>f01220c46fc92c6e6b161b1849de11faacd7ccb2</td>\n",
       "    </tr>\n",
       "  </tbody>\n",
       "</table>\n",
       "</div>"
      ],
      "text/plain": [
       "   article_id                                              title  \\\n",
       "0      1430.0  using pixiedust for fast, flexible, and easier...   \n",
       "1      1314.0       healthcare python streaming application demo   \n",
       "2      1429.0         use deep learning for image classification   \n",
       "3      1338.0          ml optimization using cognitive assistant   \n",
       "4      1276.0          deploy your python model as a restful api   \n",
       "\n",
       "                                      email  \n",
       "0  ef5f11f77ba020cd36e1105a00ab868bbdbf7fe7  \n",
       "1  083cbdfa93c8444beaa4c5f5e0f5f9198e4f9e0b  \n",
       "2  b96a4f2e92d8572034b1e9b28f9ac673765cd074  \n",
       "3  06485706b34a5c9bf2a0ecdac41daf7e7654ceb7  \n",
       "4  f01220c46fc92c6e6b161b1849de11faacd7ccb2  "
      ]
     },
     "execution_count": 1,
     "metadata": {},
     "output_type": "execute_result"
    }
   ],
   "source": [
    "import pandas as pd\n",
    "import numpy as np\n",
    "import matplotlib.pyplot as plt\n",
    "import project_tests as t\n",
    "import pickle\n",
    "\n",
    "%matplotlib inline\n",
    "\n",
    "df = pd.read_csv('data/user-item-interactions.csv')\n",
    "df_content = pd.read_csv('data/articles_community.csv')\n",
    "del df['Unnamed: 0']\n",
    "del df_content['Unnamed: 0']\n",
    "\n",
    "# Show df to get an idea of the data\n",
    "df.head()"
   ]
  },
  {
   "cell_type": "code",
   "execution_count": 2,
   "metadata": {},
   "outputs": [
    {
     "data": {
      "text/html": [
       "<div>\n",
       "<style scoped>\n",
       "    .dataframe tbody tr th:only-of-type {\n",
       "        vertical-align: middle;\n",
       "    }\n",
       "\n",
       "    .dataframe tbody tr th {\n",
       "        vertical-align: top;\n",
       "    }\n",
       "\n",
       "    .dataframe thead th {\n",
       "        text-align: right;\n",
       "    }\n",
       "</style>\n",
       "<table border=\"1\" class=\"dataframe\">\n",
       "  <thead>\n",
       "    <tr style=\"text-align: right;\">\n",
       "      <th></th>\n",
       "      <th>doc_body</th>\n",
       "      <th>doc_description</th>\n",
       "      <th>doc_full_name</th>\n",
       "      <th>doc_status</th>\n",
       "      <th>article_id</th>\n",
       "    </tr>\n",
       "  </thead>\n",
       "  <tbody>\n",
       "    <tr>\n",
       "      <th>0</th>\n",
       "      <td>Skip navigation Sign in SearchLoading...\\r\\n\\r...</td>\n",
       "      <td>Detect bad readings in real time using Python ...</td>\n",
       "      <td>Detect Malfunctioning IoT Sensors with Streami...</td>\n",
       "      <td>Live</td>\n",
       "      <td>0</td>\n",
       "    </tr>\n",
       "    <tr>\n",
       "      <th>1</th>\n",
       "      <td>No Free Hunch Navigation * kaggle.com\\r\\n\\r\\n ...</td>\n",
       "      <td>See the forest, see the trees. Here lies the c...</td>\n",
       "      <td>Communicating data science: A guide to present...</td>\n",
       "      <td>Live</td>\n",
       "      <td>1</td>\n",
       "    </tr>\n",
       "    <tr>\n",
       "      <th>2</th>\n",
       "      <td>☰ * Login\\r\\n * Sign Up\\r\\n\\r\\n * Learning Pat...</td>\n",
       "      <td>Here’s this week’s news in Data Science and Bi...</td>\n",
       "      <td>This Week in Data Science (April 18, 2017)</td>\n",
       "      <td>Live</td>\n",
       "      <td>2</td>\n",
       "    </tr>\n",
       "    <tr>\n",
       "      <th>3</th>\n",
       "      <td>DATALAYER: HIGH THROUGHPUT, LOW LATENCY AT SCA...</td>\n",
       "      <td>Learn how distributed DBs solve the problem of...</td>\n",
       "      <td>DataLayer Conference: Boost the performance of...</td>\n",
       "      <td>Live</td>\n",
       "      <td>3</td>\n",
       "    </tr>\n",
       "    <tr>\n",
       "      <th>4</th>\n",
       "      <td>Skip navigation Sign in SearchLoading...\\r\\n\\r...</td>\n",
       "      <td>This video demonstrates the power of IBM DataS...</td>\n",
       "      <td>Analyze NY Restaurant data using Spark in DSX</td>\n",
       "      <td>Live</td>\n",
       "      <td>4</td>\n",
       "    </tr>\n",
       "  </tbody>\n",
       "</table>\n",
       "</div>"
      ],
      "text/plain": [
       "                                            doc_body  \\\n",
       "0  Skip navigation Sign in SearchLoading...\\r\\n\\r...   \n",
       "1  No Free Hunch Navigation * kaggle.com\\r\\n\\r\\n ...   \n",
       "2  ☰ * Login\\r\\n * Sign Up\\r\\n\\r\\n * Learning Pat...   \n",
       "3  DATALAYER: HIGH THROUGHPUT, LOW LATENCY AT SCA...   \n",
       "4  Skip navigation Sign in SearchLoading...\\r\\n\\r...   \n",
       "\n",
       "                                     doc_description  \\\n",
       "0  Detect bad readings in real time using Python ...   \n",
       "1  See the forest, see the trees. Here lies the c...   \n",
       "2  Here’s this week’s news in Data Science and Bi...   \n",
       "3  Learn how distributed DBs solve the problem of...   \n",
       "4  This video demonstrates the power of IBM DataS...   \n",
       "\n",
       "                                       doc_full_name doc_status  article_id  \n",
       "0  Detect Malfunctioning IoT Sensors with Streami...       Live           0  \n",
       "1  Communicating data science: A guide to present...       Live           1  \n",
       "2         This Week in Data Science (April 18, 2017)       Live           2  \n",
       "3  DataLayer Conference: Boost the performance of...       Live           3  \n",
       "4      Analyze NY Restaurant data using Spark in DSX       Live           4  "
      ]
     },
     "execution_count": 2,
     "metadata": {},
     "output_type": "execute_result"
    }
   ],
   "source": [
    "# Show df_content to get an idea of the data\n",
    "df_content.head()"
   ]
  },
  {
   "cell_type": "code",
   "execution_count": 3,
   "metadata": {},
   "outputs": [
    {
     "data": {
      "text/plain": [
       "(45993, 3)"
      ]
     },
     "execution_count": 3,
     "metadata": {},
     "output_type": "execute_result"
    }
   ],
   "source": [
    "df.shape"
   ]
  },
  {
   "cell_type": "code",
   "execution_count": 4,
   "metadata": {},
   "outputs": [
    {
     "data": {
      "text/plain": [
       "(1056, 5)"
      ]
     },
     "execution_count": 4,
     "metadata": {},
     "output_type": "execute_result"
    }
   ],
   "source": [
    "df_content.shape"
   ]
  },
  {
   "cell_type": "markdown",
   "metadata": {},
   "source": [
    "### <a class=\"anchor\" id=\"Exploratory-Data-Analysis\">Part I : Exploratory Data Analysis</a>\n",
    "\n",
    "Use the dictionary and cells below to provide some insight into the descriptive statistics of the data.\n",
    "\n",
    "`1.` What is the distribution of how many articles a user interacts with in the dataset?  Provide a visual and descriptive statistics to assist with giving a look at the number of times each user interacts with an article.  "
   ]
  },
  {
   "cell_type": "code",
   "execution_count": 5,
   "metadata": {},
   "outputs": [
    {
     "data": {
      "text/plain": [
       "article_id     0\n",
       "title          0\n",
       "email         17\n",
       "dtype: int64"
      ]
     },
     "execution_count": 5,
     "metadata": {},
     "output_type": "execute_result"
    }
   ],
   "source": [
    "df.isna().sum()"
   ]
  },
  {
   "cell_type": "code",
   "execution_count": 6,
   "metadata": {},
   "outputs": [
    {
     "data": {
      "text/html": [
       "<div>\n",
       "<style scoped>\n",
       "    .dataframe tbody tr th:only-of-type {\n",
       "        vertical-align: middle;\n",
       "    }\n",
       "\n",
       "    .dataframe tbody tr th {\n",
       "        vertical-align: top;\n",
       "    }\n",
       "\n",
       "    .dataframe thead th {\n",
       "        text-align: right;\n",
       "    }\n",
       "</style>\n",
       "<table border=\"1\" class=\"dataframe\">\n",
       "  <thead>\n",
       "    <tr style=\"text-align: right;\">\n",
       "      <th></th>\n",
       "      <th>article_id</th>\n",
       "    </tr>\n",
       "  </thead>\n",
       "  <tbody>\n",
       "    <tr>\n",
       "      <th>count</th>\n",
       "      <td>5148.000000</td>\n",
       "    </tr>\n",
       "    <tr>\n",
       "      <th>mean</th>\n",
       "      <td>8.930847</td>\n",
       "    </tr>\n",
       "    <tr>\n",
       "      <th>std</th>\n",
       "      <td>16.802267</td>\n",
       "    </tr>\n",
       "    <tr>\n",
       "      <th>min</th>\n",
       "      <td>1.000000</td>\n",
       "    </tr>\n",
       "    <tr>\n",
       "      <th>25%</th>\n",
       "      <td>1.000000</td>\n",
       "    </tr>\n",
       "    <tr>\n",
       "      <th>50%</th>\n",
       "      <td>3.000000</td>\n",
       "    </tr>\n",
       "    <tr>\n",
       "      <th>75%</th>\n",
       "      <td>9.000000</td>\n",
       "    </tr>\n",
       "    <tr>\n",
       "      <th>max</th>\n",
       "      <td>364.000000</td>\n",
       "    </tr>\n",
       "  </tbody>\n",
       "</table>\n",
       "</div>"
      ],
      "text/plain": [
       "        article_id\n",
       "count  5148.000000\n",
       "mean      8.930847\n",
       "std      16.802267\n",
       "min       1.000000\n",
       "25%       1.000000\n",
       "50%       3.000000\n",
       "75%       9.000000\n",
       "max     364.000000"
      ]
     },
     "execution_count": 6,
     "metadata": {},
     "output_type": "execute_result"
    }
   ],
   "source": [
    "# Including repeated interactions with the same articles and not removing NaN rows in column 'email'\n",
    "df[['email','article_id']].groupby(['email']).count().describe()"
   ]
  },
  {
   "cell_type": "code",
   "execution_count": 7,
   "metadata": {},
   "outputs": [
    {
     "data": {
      "image/png": "[encoded data removed]",
      "text/plain": [
       "<matplotlib.figure.Figure at 0x7faaae03f240>"
      ]
     },
     "metadata": {
      "needs_background": "light"
     },
     "output_type": "display_data"
    },
    {
     "name": "stdout",
     "output_type": "stream",
     "text": [
      "Descriptive Statistics for User-Article Interactions:\n",
      "count    5148.000000\n",
      "mean        6.540210\n",
      "std         9.990676\n",
      "min         1.000000\n",
      "25%         1.000000\n",
      "50%         3.000000\n",
      "75%         7.000000\n",
      "max       135.000000\n",
      "Name: article_id, dtype: float64\n"
     ]
    }
   ],
   "source": [
    "# Exclude rows with NaN values in the 'email' column before analysis\n",
    "df_cleaned = df.dropna(subset=['email'])\n",
    "\n",
    "# Analysis: Counting the number of articles each user interacts with\n",
    "user_article_counts = df_cleaned.groupby('email')['article_id'].nunique()\n",
    "\n",
    "# Generating descriptive statistics\n",
    "descriptive_stats = user_article_counts.describe()\n",
    "\n",
    "# Visualizing the distribution of user-article interactions\n",
    "plt.figure(figsize=(10, 6))\n",
    "user_article_counts.hist(bins=30, color='skyblue', edgecolor='black')\n",
    "plt.title('Distribution of User-Article Interactions')\n",
    "plt.xlabel('Number of Articles Interacted With')\n",
    "plt.ylabel('Number of Users')\n",
    "plt.grid(False)  # Cleaner look without gridlines\n",
    "plt.show()\n",
    "\n",
    "# Display descriptive statistics\n",
    "print(\"Descriptive Statistics for User-Article Interactions:\")\n",
    "print(descriptive_stats)"
   ]
  },
  {
   "cell_type": "code",
   "execution_count": 8,
   "metadata": {},
   "outputs": [
    {
     "data": {
      "text/plain": [
       "3.0"
      ]
     },
     "execution_count": 8,
     "metadata": {},
     "output_type": "execute_result"
    }
   ],
   "source": [
    "median = user_article_counts.median()\n",
    "median"
   ]
  },
  {
   "cell_type": "code",
   "execution_count": 9,
   "metadata": {},
   "outputs": [
    {
     "data": {
      "text/plain": [
       "364"
      ]
     },
     "execution_count": 9,
     "metadata": {},
     "output_type": "execute_result"
    }
   ],
   "source": [
    "# Count the number of interactions per user and find the maximum\n",
    "max_interactions_by_user = df['email'].value_counts().max()\n",
    "max_interactions_by_user"
   ]
  },
  {
   "cell_type": "code",
   "execution_count": 10,
   "metadata": {},
   "outputs": [],
   "source": [
    "# Fill in the median and maximum number of user_article interactios below\n",
    "\n",
    "median_val = median # 50% of individuals interact with ____ number of articles or fewer.\n",
    "max_views_by_user = max_interactions_by_user# The maximum number of user-article interactions by any 1 user is ______."
   ]
  },
  {
   "cell_type": "markdown",
   "metadata": {},
   "source": [
    "`2.` Explore and remove duplicate articles from the **df_content** dataframe.  "
   ]
  },
  {
   "cell_type": "code",
   "execution_count": 11,
   "metadata": {},
   "outputs": [
    {
     "name": "stdout",
     "output_type": "stream",
     "text": [
      "Duplicate 'article_id' Rows in 'df_content':\n",
      "                                              doc_body  \\\n",
      "50   Follow Sign in / Sign up Home About Insight Da...   \n",
      "221  * United States\\r\\n\\r\\nIBM® * Site map\\r\\n\\r\\n...   \n",
      "232  Homepage Follow Sign in Get started Homepage *...   \n",
      "365  Follow Sign in / Sign up Home About Insight Da...   \n",
      "399  Homepage Follow Sign in Get started * Home\\r\\n...   \n",
      "578  This video shows you how to construct queries ...   \n",
      "692  Homepage Follow Sign in / Sign up Homepage * H...   \n",
      "761  Homepage Follow Sign in Get started Homepage *...   \n",
      "970  This video shows you how to construct queries ...   \n",
      "971  Homepage Follow Sign in Get started * Home\\r\\n...   \n",
      "\n",
      "                                       doc_description  \\\n",
      "50                        Community Detection at Scale   \n",
      "221  When used to make sense of huge amounts of con...   \n",
      "232  If you are like most data scientists, you are ...   \n",
      "365  During the seven-week Insight Data Engineering...   \n",
      "399  Today’s world of data science leverages data f...   \n",
      "578  This video shows you how to construct queries ...   \n",
      "692  One of the earliest documented catalogs was co...   \n",
      "761  Today’s world of data science leverages data f...   \n",
      "970  This video shows you how to construct queries ...   \n",
      "971  If you are like most data scientists, you are ...   \n",
      "\n",
      "                                         doc_full_name doc_status  article_id  \n",
      "50                        Graph-based machine learning       Live          50  \n",
      "221  How smart catalogs can turn the big data flood...       Live         221  \n",
      "232  Self-service data preparation with IBM Data Re...       Live         232  \n",
      "365                       Graph-based machine learning       Live          50  \n",
      "399  Using Apache Spark as a parallel processing fr...       Live         398  \n",
      "578                              Use the Primary Index       Live         577  \n",
      "692  How smart catalogs can turn the big data flood...       Live         221  \n",
      "761  Using Apache Spark as a parallel processing fr...       Live         398  \n",
      "970                              Use the Primary Index       Live         577  \n",
      "971  Self-service data preparation with IBM Data Re...       Live         232  \n"
     ]
    }
   ],
   "source": [
    "# Find and explore duplicate articles\n",
    "\n",
    "\n",
    "# Explore duplicates in 'article_id'\n",
    "duplicate_articles = df_content[df_content.duplicated(subset='article_id', keep=False)]\n",
    "\n",
    "# Display duplicate 'article_id' entries\n",
    "print(\"Duplicate 'article_id' Rows in 'df_content':\")\n",
    "print(duplicate_articles)"
   ]
  },
  {
   "cell_type": "code",
   "execution_count": 12,
   "metadata": {},
   "outputs": [
    {
     "name": "stdout",
     "output_type": "stream",
     "text": [
      "\n",
      "Cleaned 'df_content' DataFrame without Duplicates:\n",
      "                                               doc_body  \\\n",
      "0     Skip navigation Sign in SearchLoading...\\r\\n\\r...   \n",
      "1     No Free Hunch Navigation * kaggle.com\\r\\n\\r\\n ...   \n",
      "2     ☰ * Login\\r\\n * Sign Up\\r\\n\\r\\n * Learning Pat...   \n",
      "3     DATALAYER: HIGH THROUGHPUT, LOW LATENCY AT SCA...   \n",
      "4     Skip navigation Sign in SearchLoading...\\r\\n\\r...   \n",
      "5     Compose is all about immediacy. You want a new...   \n",
      "6     UPGRADING YOUR POSTGRESQL TO 9.5Share on Twitt...   \n",
      "7     Follow Sign in / Sign up 135 8 * Share\\r\\n * 1...   \n",
      "8     * Host\\r\\n * Competitions\\r\\n * Datasets\\r\\n *...   \n",
      "9     THE GRADIENT FLOW\\r\\nDATA / TECHNOLOGY / CULTU...   \n",
      "10    OFFLINE-FIRST IOS APPS WITH SWIFT & PART 1: TH...   \n",
      "11    Warehousing data from Cloudant to dashDB great...   \n",
      "12    Skip to main content IBM developerWorks / Deve...   \n",
      "13    Maureen McElaney Blocked Unblock Follow Follow...   \n",
      "14    Raj Singh Blocked Unblock Follow Following Dev...   \n",
      "15    * Home\\r\\n * Community\\r\\n * Projects\\r\\n * Bl...   \n",
      "16    * Home\\r\\n * Research\\r\\n * Partnerships and C...   \n",
      "17    Enterprise Pricing Articles Sign in Free 30-Da...   \n",
      "18    Homepage Follow Sign in / Sign up * Home\\r\\n *...   \n",
      "19    METRICS MAVEN: MODE D'EMPLOI - FINDING THE MOD...   \n",
      "20    Homepage Follow Sign in / Sign up Homepage * H...   \n",
      "21    Raj Singh Blocked Unblock Follow Following Dev...   \n",
      "22    IMPORTING JSON DOCUMENTS WITH NOSQLIMPORT\\r\\nG...   \n",
      "23    This video shows you how to build and query a ...   \n",
      "24    THE CONVERSATIONAL INTERFACE IS THE NEW PARADI...   \n",
      "25    Skip navigation Upload Sign in SearchLoading.....   \n",
      "26    GOOGLE RESEARCH BLOG The latest news from Rese...   \n",
      "27    Skip navigation Upload Sign in SearchLoading.....   \n",
      "28    ACCESS DENIED\\r\\nSadly, your client does not s...   \n",
      "29    Homepage Follow Sign in / Sign up Homepage * H...   \n",
      "...                                                 ...   \n",
      "1026  Enterprise Pricing Articles Sign in Free 30-Da...   \n",
      "1027  Skip navigation Sign in SearchLoading...\\r\\n\\r...   \n",
      "1028  Compose The Compose logo Articles Sign in Free...   \n",
      "1029  Follow Sign in / Sign up * Home\\r\\n * About In...   \n",
      "1030  Homepage Follow Sign in / Sign up Homepage * H...   \n",
      "1031  Develop in the cloud at the click of a button!...   \n",
      "1032  BLAZINGLY FAST GEOSPATIAL QUERIES WITH REDIS\\r...   \n",
      "1033  Blog Home Dataquest.io Learn Data Science in Y...   \n",
      "1034  DATALAYER: MANAGING (OR NOT) THE DATA IN IMMUT...   \n",
      "1035  Skip to contentWin-Vector Blog\\r\\n\\r\\nThe Win-...   \n",
      "1036  This work is licensed under a Creative Commons...   \n",
      "1037                                                NaN   \n",
      "1038  The relational database has been the dominant ...   \n",
      "1039  Skip to main content IBM developerWorks / Deve...   \n",
      "1040  Skip to contentDinesh Nirmal's Blog\\r\\n\\r\\nA b...   \n",
      "1041  Compose The Compose logo Articles Sign in Free...   \n",
      "1042  Glynn Bird Blocked Unblock Follow Following De...   \n",
      "1043  MENU\\r\\nClose\\r\\nSubscribe SubscribeREDUCING O...   \n",
      "1044  Homepage IBM Watson Data Lab Follow Sign in / ...   \n",
      "1045  Although it is built around a JavaScript engin...   \n",
      "1046  Margriet Groenendijk Blocked Unblock Follow Fo...   \n",
      "1047  Homepage Follow Sign in / Sign up Homepage * H...   \n",
      "1048  Homepage Follow Sign in Get started * Home\\r\\n...   \n",
      "1049  * \\r\\n * \\r\\n * \\r\\n * \\r\\n * \\r\\n * \\r\\n * \\r...   \n",
      "1050  lA SPEED GUIDE TO REDIS LUA SCRIPTING\\r\\nShare...   \n",
      "1051  PouchDB-find is a new API and syntax that allo...   \n",
      "1052  We compare discriminative and generative learn...   \n",
      "1053  Essays about data, building products and boots...   \n",
      "1054                                                NaN   \n",
      "1055  Homepage Follow Sign in / Sign up Homepage * H...   \n",
      "\n",
      "                                        doc_description  \\\n",
      "0     Detect bad readings in real time using Python ...   \n",
      "1     See the forest, see the trees. Here lies the c...   \n",
      "2     Here’s this week’s news in Data Science and Bi...   \n",
      "3     Learn how distributed DBs solve the problem of...   \n",
      "4     This video demonstrates the power of IBM DataS...   \n",
      "5              Using Compose's PostgreSQL data browser.   \n",
      "6     Upgrading your PostgreSQL deployment to versio...   \n",
      "7     For a company like Slack that strives to be as...   \n",
      "8     Kaggle is your home for data science. Learn ne...   \n",
      "9     [A version of this post appears on the O’Reill...   \n",
      "10    Apple's sample app, Food Tracker, taught you i...   \n",
      "11    Replicating data to a relational dashDB databa...   \n",
      "12    This recipe showcases how one can analyze the ...   \n",
      "13    There’s a reason you’ve been hearing a lot abo...   \n",
      "14    Who are those people lurking behind the statis...   \n",
      "15    Early methods to integrate machine learning us...   \n",
      "16    The performance of supervised predictive model...   \n",
      "17    We've always considered MySQL as a potential C...   \n",
      "18    It has never been easier to build AI or machin...   \n",
      "19    In our Metrics Maven series, Compose's data sc...   \n",
      "20    It is often useful to use RStudio for one piec...   \n",
      "21    You’re doing your data a disservice if you don...   \n",
      "22    Introducing nosqlimport, an npm module to help...   \n",
      "23    This video shows you how to build and query a ...   \n",
      "24    Botkit provides a simple framework to handle t...   \n",
      "25    Want to learn more about how we created the Da...   \n",
      "26    Much of driving is spent either stuck in traff...   \n",
      "27    This talk assumes you have a basic understandi...   \n",
      "28    In this paper, we propose gcForest, a decision...   \n",
      "29    I’m very happy and proud to announce that IBM ...   \n",
      "...                                                 ...   \n",
      "1026  Varun Singh, a software engineer at IBM's Wats...   \n",
      "1027  This video shows you how to create and adminis...   \n",
      "1028  With the latest 0.2.1 version of Transporter, ...   \n",
      "1029  Audio super-resolution aims to reconstruct a h...   \n",
      "1030  Since then, this metric has been ubiquitously ...   \n",
      "1031  Build a word game app and see how to manage an...   \n",
      "1032  Use Redis and and Python scripts to speed your...   \n",
      "1033  In this post, you’ll learn to query, update, a...   \n",
      "1034  Adron Hall of Thrashing Code and Home Depot, t...   \n",
      "1035  Describes the use of Laplace noise in machine ...   \n",
      "1036  A full guide to Elasticsearch, the real-time d...   \n",
      "1037  See how quick and easy it is to set up a dashD...   \n",
      "1038  The relational database has been the dominant ...   \n",
      "1039  Building your first data warehouse doesn’t hav...   \n",
      "1040  In my last blog “Business differentiation thro...   \n",
      "1041  MongoDB's aggregation pipeline makes finding d...   \n",
      "1042  Which write API endpoint is the right write ca...   \n",
      "1043        Nothing spoils a plot like (too much) data.   \n",
      "1044  Getting started with custom visualizations, si...   \n",
      "1045  Although it is built around a JavaScript engin...   \n",
      "1046  Last week I attended the GeoPython conference ...   \n",
      "1047  In this post, we will go through how to read a...   \n",
      "1048  As more devices become internet enabled, harne...   \n",
      "1049  Continuing my previous work on exploring Arlin...   \n",
      "1050  Lua is a compact language which can be embedde...   \n",
      "1051  PouchDB uses MapReduce as its default search m...   \n",
      "1052  We compare discriminative and generative learn...   \n",
      "1053  In order to demystify some of the magic behind...   \n",
      "1054  Learn how to use IBM dashDB as data store for ...   \n",
      "1055  Once you get used to developing in a Notebook ...   \n",
      "\n",
      "                                          doc_full_name doc_status  article_id  \n",
      "0     Detect Malfunctioning IoT Sensors with Streami...       Live           0  \n",
      "1     Communicating data science: A guide to present...       Live           1  \n",
      "2            This Week in Data Science (April 18, 2017)       Live           2  \n",
      "3     DataLayer Conference: Boost the performance of...       Live           3  \n",
      "4         Analyze NY Restaurant data using Spark in DSX       Live           4  \n",
      "5                 Browsing PostgreSQL Data with Compose       Live           5  \n",
      "6                      Upgrading your PostgreSQL to 9.5       Live           6  \n",
      "7                               Data Wrangling at Slack       Live           7  \n",
      "8                                Data Science Bowl 2017       Live           8  \n",
      "9     Using Apache Spark to predict attack vectors a...       Live           9  \n",
      "10    Offline-First iOS Apps with Swift & Cloudant S...       Live          10  \n",
      "11                        Warehousing GeoJSON documents       Live          11  \n",
      "12    Timeseries Data Analysis of IoT events by usin...       Live          12  \n",
      "13    Bridging the Gap Between Python and Scala Jupy...       Live          13  \n",
      "14    Got zip code data? Prep it for analytics. – IB...       Live          14  \n",
      "15    Apache Spark™ 2.0: Extend Structured Streaming...       Live          15  \n",
      "16    Higher-order Logistic Regression for Large Dat...       Live          16  \n",
      "17                        Compose for MySQL now for you       Live          17  \n",
      "18    The Greatest Public Datasets for AI – Startup ...       Live          18  \n",
      "19                       Finding the Mode in PostgreSQL       Live          19  \n",
      "20    Working interactively with RStudio and noteboo...       Live          20  \n",
      "21    Mapping for Data Science with PixieDust and Ma...       Live          21  \n",
      "22             Move CSVs into different JSON doc stores       Live          22  \n",
      "23    Tutorial: How to build and query a Cloudant ge...       Live          23  \n",
      "24     The Conversational Interface is the New Paradigm       Live          24  \n",
      "25                 Creating the Data Science Experience       Live          25  \n",
      "26    Using Machine Learning to predict parking diff...       Live          26  \n",
      "27            Getting The Best Performance With PySpark       Live          27  \n",
      "28    Deep Forest: Towards An Alternative to Deep Ne...       Live          28  \n",
      "29                         Experience IoT with Coursera       Live          29  \n",
      "...                                                 ...        ...         ...  \n",
      "1026         Redis and MongoDB in the biomedical domain       Live        1021  \n",
      "1027  Create and administer a data catalog using IBM...       Live        1022  \n",
      "1028  How to move data with Compose Transporter - Fr...       Live        1023  \n",
      "1029  Using Deep Learning to Reconstruct High-Resolu...       Live        1024  \n",
      "1030            Data tidying in Data Science Experience       Live        1025  \n",
      "1031  Build a simple word game app using Cloudant on...       Live        1026  \n",
      "1032       Blazingly Fast Geospatial Queries with Redis       Live        1027  \n",
      "1033  Working with SQLite Databases using Python and...       Live        1028  \n",
      "1034  DataLayer Conference: Managing (or not) the Da...       Live        1029  \n",
      "1035  Laplace noising versus simulated out of sample...       Live        1030  \n",
      "1036                               The Definitive Guide       Live        1031  \n",
      "1037                 Get started with dashDB on Bluemix       Live        1032  \n",
      "1038       The Many Flavors of NoSQL at That Conference       Live        1033  \n",
      "1039   Your First Data Warehouse Is Easy. Meet the ODS.       Live        1034  \n",
      "1040               Machine Learning for the Enterprise.       Live        1035  \n",
      "1041             Finding Duplicate Documents in MongoDB       Live        1036  \n",
      "1042  Piecemeal, Bulk, or Batch? – IBM Watson Data L...       Live        1037  \n",
      "1043              Reducing overplotting in scatterplots       Live        1038  \n",
      "1044  You Too Can Make Magic (in Jupyter Notebooks w...       Live        1039  \n",
      "1045  How I Stopped Worrying & Learned to Love the M...       Live        1040  \n",
      "1046  Mapping All the Things with Python – IBM Watso...       Live        1041  \n",
      "1047  Use IBM Data Science Experience to Read and Wr...       Live        1042  \n",
      "1048  Use IoT data in Streams Designer for billing a...       Live        1043  \n",
      "1049                         Mapping Points with Folium       Live        1044  \n",
      "1050               A Speed Guide To Redis Lua Scripting       Live        1045  \n",
      "1051            A look under the covers of PouchDB-find       Live        1046  \n",
      "1052  A comparison of logistic regression and naive ...       Live        1047  \n",
      "1053  What I Learned Implementing a Classifier from ...       Live        1048  \n",
      "1054                              Use dashDB with Spark       Live        1049  \n",
      "1055  Jupyter Notebooks with Scala, Python, or R Ker...       Live        1050  \n",
      "\n",
      "[1051 rows x 5 columns]\n"
     ]
    }
   ],
   "source": [
    "# Remove any rows that have the same article_id - only keep the first\n",
    "\n",
    "# Remove duplicate 'article_id' entries, keeping the first occurrence\n",
    "df_content_cleaned = df_content.drop_duplicates(subset='article_id', keep='first')\n",
    "\n",
    "# Display the cleaned DataFrame to confirm duplicates are removed\n",
    "print(\"\\nCleaned 'df_content' DataFrame without Duplicates:\")\n",
    "print(df_content_cleaned)"
   ]
  },
  {
   "cell_type": "markdown",
   "metadata": {},
   "source": [
    "`3.` Use the cells below to find:\n",
    "\n",
    "**a.** The number of unique articles that have an interaction with a user.  \n",
    "**b.** The number of unique articles in the dataset (whether they have any interactions or not).<br>\n",
    "**c.** The number of unique users in the dataset. (excluding null values) <br>\n",
    "**d.** The number of user-article interactions in the dataset."
   ]
  },
  {
   "cell_type": "code",
   "execution_count": 13,
   "metadata": {},
   "outputs": [
    {
     "name": "stdout",
     "output_type": "stream",
     "text": [
      "The number of unique articles that have an interaction with a user: 714\n",
      "The total number of unique articles in the dataset: 1051\n",
      "The number of unique users: 5148\n",
      "The number of user-article interactions: 45993\n"
     ]
    }
   ],
   "source": [
    "##a. The number of unique articles that have an interaction with a user.\n",
    "\n",
    "# Calculate the number of unique articles that have at least one interaction with a user\n",
    "# after filtering out rows with NaN in 'email'\n",
    "unique_articles_interacted = df_cleaned['article_id'].nunique()\n",
    "print(f\"The number of unique articles that have an interaction with a user: {unique_articles_interacted}\")\n",
    "\n",
    "##b. The number of unique articles in the dataset (whether they have any interactions or not).\n",
    "\n",
    "# Calculate the number of unique articles in the dataset\n",
    "unique_articles_total = df_content['article_id'].nunique()\n",
    "print(f\"The total number of unique articles in the dataset: {unique_articles_total}\")\n",
    "\n",
    "##c. The number of unique users in the dataset. (excluding null values)\n",
    "\n",
    "# Calculating for unique users\n",
    "unique_users = df['email'].nunique()\n",
    "\n",
    "print(f\"The number of unique users: {unique_users}\")\n",
    "\n",
    "#d. The number of user-article interactions in the dataset.\n",
    "\n",
    "# Total interations with all NaN emails, more than 1 article interactions\n",
    "user_article_interactions = df.shape[0]\n",
    "print(f\"The number of user-article interactions: {user_article_interactions}\")\n"
   ]
  },
  {
   "cell_type": "code",
   "execution_count": 14,
   "metadata": {},
   "outputs": [],
   "source": [
    "unique_articles = 714 # The number of unique articles that have at least one interaction\n",
    "total_articles = 1051 # The number of unique articles on the IBM platform\n",
    "unique_users = 5148 # The number of unique users\n",
    "user_article_interactions = 45993# The number of user-article interactions"
   ]
  },
  {
   "cell_type": "markdown",
   "metadata": {},
   "source": [
    "`4.` Use the cells below to find the most viewed **article_id**, as well as how often it was viewed.  After talking to the company leaders, the `email_mapper` function was deemed a reasonable way to map users to ids.  There were a small number of null values, and it was found that all of these null values likely belonged to a single user (which is how they are stored using the function below)."
   ]
  },
  {
   "cell_type": "code",
   "execution_count": 15,
   "metadata": {},
   "outputs": [
    {
     "name": "stdout",
     "output_type": "stream",
     "text": [
      "The most viewed article_id: 1429.0\n",
      "How often it was viewed: 937\n"
     ]
    }
   ],
   "source": [
    "# Count the number of views each article received\n",
    "article_views = df['article_id'].value_counts()\n",
    "\n",
    "# Identify the most viewed article_id and its number of views\n",
    "most_viewed_article_id = article_views.idxmax()\n",
    "max_views = article_views.max()\n",
    "\n",
    "print(f\"The most viewed article_id: {most_viewed_article_id}\")\n",
    "print(f\"How often it was viewed: {max_views}\")"
   ]
  },
  {
   "cell_type": "code",
   "execution_count": 16,
   "metadata": {},
   "outputs": [],
   "source": [
    "most_viewed_article_id = '1429.0' # The most viewed article in the dataset as a string with one value following the decimal \n",
    "max_views = 937 # The most viewed article in the dataset was viewed how many times?"
   ]
  },
  {
   "cell_type": "code",
   "execution_count": 17,
   "metadata": {},
   "outputs": [
    {
     "data": {
      "text/html": [
       "<div>\n",
       "<style scoped>\n",
       "    .dataframe tbody tr th:only-of-type {\n",
       "        vertical-align: middle;\n",
       "    }\n",
       "\n",
       "    .dataframe tbody tr th {\n",
       "        vertical-align: top;\n",
       "    }\n",
       "\n",
       "    .dataframe thead th {\n",
       "        text-align: right;\n",
       "    }\n",
       "</style>\n",
       "<table border=\"1\" class=\"dataframe\">\n",
       "  <thead>\n",
       "    <tr style=\"text-align: right;\">\n",
       "      <th></th>\n",
       "      <th>article_id</th>\n",
       "      <th>title</th>\n",
       "      <th>user_id</th>\n",
       "    </tr>\n",
       "  </thead>\n",
       "  <tbody>\n",
       "    <tr>\n",
       "      <th>0</th>\n",
       "      <td>1430.0</td>\n",
       "      <td>using pixiedust for fast, flexible, and easier...</td>\n",
       "      <td>1</td>\n",
       "    </tr>\n",
       "    <tr>\n",
       "      <th>1</th>\n",
       "      <td>1314.0</td>\n",
       "      <td>healthcare python streaming application demo</td>\n",
       "      <td>2</td>\n",
       "    </tr>\n",
       "    <tr>\n",
       "      <th>2</th>\n",
       "      <td>1429.0</td>\n",
       "      <td>use deep learning for image classification</td>\n",
       "      <td>3</td>\n",
       "    </tr>\n",
       "    <tr>\n",
       "      <th>3</th>\n",
       "      <td>1338.0</td>\n",
       "      <td>ml optimization using cognitive assistant</td>\n",
       "      <td>4</td>\n",
       "    </tr>\n",
       "    <tr>\n",
       "      <th>4</th>\n",
       "      <td>1276.0</td>\n",
       "      <td>deploy your python model as a restful api</td>\n",
       "      <td>5</td>\n",
       "    </tr>\n",
       "  </tbody>\n",
       "</table>\n",
       "</div>"
      ],
      "text/plain": [
       "   article_id                                              title  user_id\n",
       "0      1430.0  using pixiedust for fast, flexible, and easier...        1\n",
       "1      1314.0       healthcare python streaming application demo        2\n",
       "2      1429.0         use deep learning for image classification        3\n",
       "3      1338.0          ml optimization using cognitive assistant        4\n",
       "4      1276.0          deploy your python model as a restful api        5"
      ]
     },
     "execution_count": 17,
     "metadata": {},
     "output_type": "execute_result"
    }
   ],
   "source": [
    "## No need to change the code here - this will be helpful for later parts of the notebook\n",
    "# Run this cell to map the user email to a user_id column and remove the email column\n",
    "\n",
    "def email_mapper():\n",
    "    coded_dict = dict()\n",
    "    cter = 1\n",
    "    email_encoded = []\n",
    "    \n",
    "    for val in df['email']:\n",
    "        if val not in coded_dict:\n",
    "            coded_dict[val] = cter\n",
    "            cter+=1\n",
    "        \n",
    "        email_encoded.append(coded_dict[val])\n",
    "    return email_encoded\n",
    "\n",
    "email_encoded = email_mapper()\n",
    "del df['email']\n",
    "df['user_id'] = email_encoded\n",
    "\n",
    "# show header\n",
    "df.head()"
   ]
  },
  {
   "cell_type": "code",
   "execution_count": 18,
   "metadata": {},
   "outputs": [
    {
     "name": "stdout",
     "output_type": "stream",
     "text": [
      "It looks like you have everything right here! Nice job!\n"
     ]
    }
   ],
   "source": [
    "## If you stored all your results in the variable names above, \n",
    "## you shouldn't need to change anything in this cell\n",
    "\n",
    "sol_1_dict = {\n",
    "    '`50% of individuals have _____ or fewer interactions.`': median_val,\n",
    "    '`The total number of user-article interactions in the dataset is ______.`': user_article_interactions,\n",
    "    '`The maximum number of user-article interactions by any 1 user is ______.`': max_views_by_user,\n",
    "    '`The most viewed article in the dataset was viewed _____ times.`': max_views,\n",
    "    '`The article_id of the most viewed article is ______.`': most_viewed_article_id,\n",
    "    '`The number of unique articles that have at least 1 rating ______.`': unique_articles,\n",
    "    '`The number of unique users in the dataset is ______`': unique_users,\n",
    "    '`The number of unique articles on the IBM platform`': total_articles\n",
    "}\n",
    "\n",
    "# Test your dictionary against the solution\n",
    "t.sol_1_test(sol_1_dict)"
   ]
  },
  {
   "cell_type": "markdown",
   "metadata": {},
   "source": [
    "### <a class=\"anchor\" id=\"Rank\">Part II: Rank-Based Recommendations</a>\n",
    "\n",
    "Unlike in the earlier lessons, we don't actually have ratings for whether a user liked an article or not.  We only know that a user has interacted with an article.  In these cases, the popularity of an article can really only be based on how often an article was interacted with.\n",
    "\n",
    "`1.` Fill in the function below to return the **n** top articles ordered with most interactions as the top. Test your function using the tests below."
   ]
  },
  {
   "cell_type": "code",
   "execution_count": 19,
   "metadata": {},
   "outputs": [],
   "source": [
    "def get_top_articles(n, df=df):\n",
    "    '''\n",
    "    INPUT:\n",
    "    n - (int) the number of top articles to return\n",
    "    df - (pandas dataframe) df as defined at the top of the notebook \n",
    "    \n",
    "    OUTPUT:\n",
    "    top_articles - (list) A list of the top 'n' article titles \n",
    "    \n",
    "    '''\n",
    "    # Identify the top 'n' article_ids based on interaction count, maintaining order\n",
    "    top_articles_idx = df['article_id'].value_counts().head(n).index\n",
    "\n",
    "    # Filter the original df to only include rows with the top 'n' article_ids\n",
    "    # and then drop duplicates to avoid repeating titles.\n",
    "    df_filtered = df[df['article_id'].astype(str).isin(top_articles_idx.astype(str))].drop_duplicates('article_id')\n",
    "\n",
    "    # Ensure the titles are ordered according to the interaction count by reindexing\n",
    "    df_filtered = df_filtered.set_index('article_id').reindex(top_articles_idx)\n",
    "\n",
    "    # Extract the titles\n",
    "    top_articles = df_filtered['title'].tolist()\n",
    "    \n",
    "    return top_articles # Return the top article titles from df (not df_content)\n",
    "\n",
    "def get_top_article_ids(n, df=df):\n",
    "    '''\n",
    "    INPUT:\n",
    "    n - (int) the number of top articles to return\n",
    "    df - (pandas dataframe) df as defined at the top of the notebook \n",
    "    \n",
    "    OUTPUT:\n",
    "    top_articles - (list) A list of the top 'n' article titles \n",
    "    \n",
    "    '''\n",
    "    # Identify the top 'n' article_ids based on interaction count\n",
    "    top_article_ids = df['article_id'].value_counts().head(n).index\n",
    "\n",
    "    # Convert article_ids to strings to match the requirement\n",
    "    top_article_ids = top_article_ids.astype(str).tolist()\n",
    " \n",
    "    return top_article_ids # Return the top article ids"
   ]
  },
  {
   "cell_type": "code",
   "execution_count": 20,
   "metadata": {},
   "outputs": [
    {
     "name": "stdout",
     "output_type": "stream",
     "text": [
      "['use deep learning for image classification', 'insights from new york car accident reports', 'visualize car data with brunel', 'use xgboost, scikit-learn & ibm watson machine learning apis', 'predicting churn with the spss random tree algorithm', 'healthcare python streaming application demo', 'finding optimal locations of new store using decision optimization', 'apache spark lab, part 1: basic concepts', 'analyze energy consumption in buildings', 'gosales transactions for logistic regression model']\n",
      "['1429.0', '1330.0', '1431.0', '1427.0', '1364.0', '1314.0', '1293.0', '1170.0', '1162.0', '1304.0']\n"
     ]
    }
   ],
   "source": [
    "print(get_top_articles(10))\n",
    "print(get_top_article_ids(10))"
   ]
  },
  {
   "cell_type": "code",
   "execution_count": 21,
   "metadata": {},
   "outputs": [
    {
     "name": "stdout",
     "output_type": "stream",
     "text": [
      "Your top_5 looks like the solution list! Nice job.\n",
      "Your top_10 looks like the solution list! Nice job.\n",
      "Your top_20 looks like the solution list! Nice job.\n"
     ]
    }
   ],
   "source": [
    "# Test your function by returning the top 5, 10, and 20 articles\n",
    "top_5 = get_top_articles(5)\n",
    "top_10 = get_top_articles(10)\n",
    "top_20 = get_top_articles(20)\n",
    "\n",
    "# Test each of your three lists from above\n",
    "t.sol_2_test(get_top_articles)"
   ]
  },
  {
   "cell_type": "markdown",
   "metadata": {},
   "source": [
    "### <a class=\"anchor\" id=\"User-User\">Part III: User-User Based Collaborative Filtering</a>\n",
    "\n",
    "\n",
    "`1.` Use the function below to reformat the **df** dataframe to be shaped with users as the rows and articles as the columns.  \n",
    "\n",
    "* Each **user** should only appear in each **row** once.\n",
    "\n",
    "\n",
    "* Each **article** should only show up in one **column**.  \n",
    "\n",
    "\n",
    "* **If a user has interacted with an article, then place a 1 where the user-row meets for that article-column**.  It does not matter how many times a user has interacted with the article, all entries where a user has interacted with an article should be a 1.  \n",
    "\n",
    "\n",
    "* **If a user has not interacted with an item, then place a zero where the user-row meets for that article-column**. \n",
    "\n",
    "Use the tests to make sure the basic structure of your matrix matches what is expected by the solution."
   ]
  },
  {
   "cell_type": "code",
   "execution_count": 22,
   "metadata": {},
   "outputs": [],
   "source": [
    "# create the user-article matrix with 1's and 0's\n",
    "\n",
    "def create_user_item_matrix(df):\n",
    "    '''\n",
    "    INPUT:\n",
    "    df - pandas dataframe with article_id, title, user_id columns\n",
    "    \n",
    "    OUTPUT:\n",
    "    user_item - user item matrix \n",
    "    \n",
    "    Description:\n",
    "    Return a matrix with user ids as rows and article ids on the columns with 1 values where a user interacted with \n",
    "    an article and a 0 otherwise\n",
    "    '''\n",
    "    # Ensure article_id is in the correct format\n",
    "    df['article_id'] = df['article_id'].astype(str)\n",
    "    \n",
    "    # Creating the user-article matrix with 1's and 0's\n",
    "    user_item = df.groupby(['user_id', 'article_id']).size().unstack(fill_value=0)\n",
    "    \n",
    "    # Convert the interaction counts (>0) to 1\n",
    "    user_item = (user_item > 0).astype(int)\n",
    "    \n",
    "    return user_item # return the user_item matrix \n",
    "\n",
    "user_item = create_user_item_matrix(df)"
   ]
  },
  {
   "cell_type": "code",
   "execution_count": 23,
   "metadata": {},
   "outputs": [
    {
     "name": "stdout",
     "output_type": "stream",
     "text": [
      "You have passed our quick tests!  Please proceed!\n"
     ]
    }
   ],
   "source": [
    "## Tests: You should just need to run this cell.  Don't change the code.\n",
    "assert user_item.shape[0] == 5149, \"Oops!  The number of users in the user-article matrix doesn't look right.\"\n",
    "assert user_item.shape[1] == 714, \"Oops!  The number of articles in the user-article matrix doesn't look right.\"\n",
    "assert user_item.sum(axis=1)[1] == 36, \"Oops!  The number of articles seen by user 1 doesn't look right.\"\n",
    "print(\"You have passed our quick tests!  Please proceed!\")"
   ]
  },
  {
   "cell_type": "markdown",
   "metadata": {},
   "source": [
    "`2.` Complete the function below which should take a user_id and provide an ordered list of the most similar users to that user (from most similar to least similar).  The returned result should not contain the provided user_id, as we know that each user is similar to him/herself. Because the results for each user here are binary, it (perhaps) makes sense to compute similarity as the dot product of two users. \n",
    "\n",
    "Use the tests to test your function."
   ]
  },
  {
   "cell_type": "code",
   "execution_count": 24,
   "metadata": {},
   "outputs": [],
   "source": [
    "def find_similar_users(user_id, user_item=user_item):\n",
    "    '''\n",
    "    INPUT:\n",
    "    user_id - (int) a user_id\n",
    "    user_item - (pandas dataframe) matrix of users by articles: \n",
    "                1's when a user has interacted with an article, 0 otherwise\n",
    "    \n",
    "    OUTPUT:\n",
    "    similar_users - (list) an ordered list where the closest users (largest dot product users)\n",
    "                    are listed first\n",
    "    \n",
    "    Description:\n",
    "    Computes the similarity of every pair of users based on the dot product\n",
    "    Returns an ordered\n",
    "    \n",
    "    '''\n",
    "    \n",
    "    # Compute similarity of each user to the provided user\n",
    "    similarity = user_item.dot(user_item.loc[user_id])\n",
    "    \n",
    "    # Sort by similarity\n",
    "    similarity = similarity.sort_values(ascending=False)\n",
    "    \n",
    "    # Create list of just the ids\n",
    "    most_similar_users = similarity.index.tolist()\n",
    "   \n",
    "    # Remove the own user's id\n",
    "    most_similar_users.remove(user_id)\n",
    "       \n",
    "    return most_similar_users # return a list of the users in order from most to least similar\n",
    "        "
   ]
  },
  {
   "cell_type": "code",
   "execution_count": 25,
   "metadata": {},
   "outputs": [
    {
     "name": "stdout",
     "output_type": "stream",
     "text": [
      "The 10 most similar users to user 1 are: [3933, 23, 3782, 203, 4459, 131, 3870, 46, 4201, 5041]\n",
      "The 5 most similar users to user 3933 are: [1, 23, 3782, 4459, 203]\n",
      "The 3 most similar users to user 46 are: [4201, 23, 3782]\n"
     ]
    }
   ],
   "source": [
    "# Do a spot check of your function\n",
    "print(\"The 10 most similar users to user 1 are: {}\".format(find_similar_users(1)[:10]))\n",
    "print(\"The 5 most similar users to user 3933 are: {}\".format(find_similar_users(3933)[:5]))\n",
    "print(\"The 3 most similar users to user 46 are: {}\".format(find_similar_users(46)[:3]))"
   ]
  },
  {
   "cell_type": "markdown",
   "metadata": {},
   "source": [
    "`3.` Now that you have a function that provides the most similar users to each user, you will want to use these users to find articles you can recommend.  Complete the functions below to return the articles you would recommend to each user. "
   ]
  },
  {
   "cell_type": "code",
   "execution_count": 26,
   "metadata": {},
   "outputs": [],
   "source": [
    "def get_article_names(article_ids, df=df):\n",
    "    '''\n",
    "    INPUT:\n",
    "    article_ids - (list) a list of article ids\n",
    "    df - (pandas dataframe) df as defined at the top of the notebook\n",
    "    \n",
    "    OUTPUT:\n",
    "    article_names - (list) a list of article names associated with the list of article ids \n",
    "                    (this is identified by the title column)\n",
    "    '''\n",
    "    \n",
    "    # Convert article_ids to string format to match df['article_id'] type\n",
    "    article_ids = [str(article_id) for article_id in article_ids]\n",
    "    \n",
    "    # Get the article names for the given article_ids\n",
    "    article_names = df[df['article_id'].isin(article_ids)]['title'].drop_duplicates().tolist()\n",
    "    \n",
    "    return article_names # Return the article names associated with list of article ids\n",
    "\n",
    "\n",
    "def get_user_articles(user_id, user_item=user_item):\n",
    "    '''\n",
    "    INPUT:\n",
    "    user_id - (int) a user id\n",
    "    user_item - (pandas dataframe) matrix of users by articles: \n",
    "                1's when a user has interacted with an article, 0 otherwise\n",
    "    \n",
    "    OUTPUT:\n",
    "    article_ids - (list) a list of the article ids seen by the user\n",
    "    article_names - (list) a list of article names associated with the list of article ids \n",
    "                    (this is identified by the doc_full_name column in df_content)\n",
    "    \n",
    "    Description:\n",
    "    Provides a list of the article_ids and article titles that have been seen by a user\n",
    "    '''\n",
    "    \n",
    "    # Find all articles that a user has interacted with\n",
    "    article_ids = user_item.loc[user_id, user_item.loc[user_id] == 1].index.tolist()\n",
    "    \n",
    "    # Retrieve article names using the get_article_names function\n",
    "    article_names = get_article_names(article_ids, df)\n",
    "    \n",
    "    return article_ids, article_names # return the ids and names\n",
    "\n",
    "\n",
    "def user_user_recs(user_id, m=10):\n",
    "    '''\n",
    "    INPUT:\n",
    "    user_id - (int) a user id\n",
    "    m - (int) the number of recommendations you want for the user\n",
    "    \n",
    "    OUTPUT:\n",
    "    recs - (list) a list of recommendations for the user\n",
    "    \n",
    "    Description:\n",
    "    Loops through the users based on closeness to the input user_id\n",
    "    For each user - finds articles the user hasn't seen before and provides them as recs\n",
    "    Does this until m recommendations are found\n",
    "    \n",
    "    Notes:\n",
    "    Users who are the same closeness are chosen arbitrarily as the 'next' user\n",
    "    \n",
    "    For the user where the number of recommended articles starts below m \n",
    "    and ends exceeding m, the last items are chosen arbitrarily\n",
    "    \n",
    "    '''\n",
    "    \n",
    "    # Find similar users\n",
    "    similar_users = find_similar_users(user_id, user_item)\n",
    "    \n",
    "    # Get articles seen by the user\n",
    "    user_articles, _ = get_user_articles(user_id, user_item)\n",
    "    \n",
    "    # Initialize a set for recommendations to ensure unique entries\n",
    "    recs = set()\n",
    "    \n",
    "    # Loop through similar users to get recommendations\n",
    "    for similar_user in similar_users:\n",
    "        if len(recs) >= m:\n",
    "            break\n",
    "        similar_user_articles, _ = get_user_articles(similar_user, user_item)\n",
    "        \n",
    "        # Add articles not already seen by user to recommendations\n",
    "        recs.update(set(similar_user_articles) - set(user_articles))\n",
    "    \n",
    "    # Ensure the number of recommendations does not exceed m\n",
    "    recs = list(recs)[:m]\n",
    "    \n",
    "    return recs # return your recommendations for this user_id    "
   ]
  },
  {
   "cell_type": "code",
   "execution_count": 27,
   "metadata": {},
   "outputs": [
    {
     "data": {
      "text/plain": [
       "['the unit commitment problem',\n",
       " 'graph-based machine learning',\n",
       " 'analyze accident reports on amazon emr spark',\n",
       " 'using brunel in ipython/jupyter notebooks',\n",
       " 'data visualization playbook: telling the data story',\n",
       " 'deep learning with data science experience',\n",
       " 'declarative machine learning',\n",
       " 'deep forest: towards an alternative to deep neural networks',\n",
       " 'get social with your notebooks in dsx',\n",
       " 'using bigdl in dsx for deep learning on spark']"
      ]
     },
     "execution_count": 27,
     "metadata": {},
     "output_type": "execute_result"
    }
   ],
   "source": [
    "# Check Results\n",
    "get_article_names(user_user_recs(1, 10)) # Return 10 recommendations for user 1"
   ]
  },
  {
   "cell_type": "code",
   "execution_count": 28,
   "metadata": {},
   "outputs": [
    {
     "name": "stdout",
     "output_type": "stream",
     "text": [
      "If this is all you see, you passed all of our tests!  Nice job!\n"
     ]
    }
   ],
   "source": [
    "# Test your functions here - No need to change this code - just run this cell\n",
    "assert set(get_article_names(['1024.0', '1176.0', '1305.0', '1314.0', '1422.0', '1427.0'])) == set(['using deep learning to reconstruct high-resolution audio', 'build a python app on the streaming analytics service', 'gosales transactions for naive bayes model', 'healthcare python streaming application demo', 'use r dataframes & ibm watson natural language understanding', 'use xgboost, scikit-learn & ibm watson machine learning apis']), \"Oops! Your the get_article_names function doesn't work quite how we expect.\"\n",
    "assert set(get_article_names(['1320.0', '232.0', '844.0'])) == set(['housing (2015): united states demographic measures','self-service data preparation with ibm data refinery','use the cloudant-spark connector in python notebook']), \"Oops! Your the get_article_names function doesn't work quite how we expect.\"\n",
    "assert set(get_user_articles(20)[0]) == set(['1320.0', '232.0', '844.0'])\n",
    "assert set(get_user_articles(20)[1]) == set(['housing (2015): united states demographic measures', 'self-service data preparation with ibm data refinery','use the cloudant-spark connector in python notebook'])\n",
    "assert set(get_user_articles(2)[0]) == set(['1024.0', '1176.0', '1305.0', '1314.0', '1422.0', '1427.0'])\n",
    "assert set(get_user_articles(2)[1]) == set(['using deep learning to reconstruct high-resolution audio', 'build a python app on the streaming analytics service', 'gosales transactions for naive bayes model', 'healthcare python streaming application demo', 'use r dataframes & ibm watson natural language understanding', 'use xgboost, scikit-learn & ibm watson machine learning apis'])\n",
    "print(\"If this is all you see, you passed all of our tests!  Nice job!\")"
   ]
  },
  {
   "cell_type": "markdown",
   "metadata": {},
   "source": [
    "`4.` Now we are going to improve the consistency of the **user_user_recs** function from above.  \n",
    "\n",
    "* Instead of arbitrarily choosing when we obtain users who are all the same closeness to a given user - choose the users that have the most total article interactions before choosing those with fewer article interactions.\n",
    "\n",
    "\n",
    "* Instead of arbitrarily choosing articles from the user where the number of recommended articles starts below m and ends exceeding m, choose articles with the articles with the most total interactions before choosing those with fewer total interactions. This ranking should be  what would be obtained from the **top_articles** function you wrote earlier."
   ]
  },
  {
   "cell_type": "code",
   "execution_count": 29,
   "metadata": {},
   "outputs": [],
   "source": [
    "def get_top_sorted_users(user_id, df=df, user_item=user_item):\n",
    "    '''\n",
    "    INPUT:\n",
    "    user_id - (int)\n",
    "    df - (pandas dataframe) df as defined at the top of the notebook \n",
    "    user_item - (pandas dataframe) matrix of users by articles: \n",
    "            1's when a user has interacted with an article, 0 otherwise\n",
    "    \n",
    "            \n",
    "    OUTPUT:\n",
    "    neighbors_df - (pandas dataframe) a dataframe with:\n",
    "                    neighbor_id - is a neighbor user_id\n",
    "                    similarity - measure of the similarity of each user to the provided user_id\n",
    "                    num_interactions - the number of articles viewed by the user - if a u\n",
    "                    \n",
    "    Other Details - sort the neighbors_df by the similarity and then by number of interactions where \n",
    "                    highest of each is higher in the dataframe\n",
    "     \n",
    "    '''\n",
    "    \n",
    "    # Compute similarity\n",
    "    user_similarity = user_item.dot(user_item.loc[user_id])\n",
    "    user_similarity = user_similarity.drop(user_id).reset_index()\n",
    "    user_similarity.columns = ['neighbor_id', 'similarity']\n",
    "    \n",
    "    # Compute number of interactions\n",
    "    num_interactions = df.groupby(['user_id'])['article_id'].count().reset_index()\n",
    "    num_interactions.columns = ['neighbor_id', 'num_interactions']\n",
    "    \n",
    "    # Merge the two dataframes\n",
    "    neighbors_df = pd.merge(user_similarity, num_interactions, on='neighbor_id')\n",
    "    \n",
    "    # Sort by similarity, then by number of interactions\n",
    "    neighbors_df = neighbors_df.sort_values(by=['similarity', 'num_interactions'], ascending=False)\n",
    "    \n",
    "    return neighbors_df # Return the dataframe specified in the doc_string\n",
    "\n",
    "\n",
    "def user_user_recs_part2(user_id, m=10):\n",
    "    '''\n",
    "    INPUT:\n",
    "    user_id - (int) a user id\n",
    "    m - (int) the number of recommendations you want for the user\n",
    "    \n",
    "    OUTPUT:\n",
    "    recs - (list) a list of recommendations for the user by article id\n",
    "    rec_names - (list) a list of recommendations for the user by article title\n",
    "    \n",
    "    Description:\n",
    "    Loops through the users based on closeness to the input user_id\n",
    "    For each user - finds articles the user hasn't seen before and provides them as recs\n",
    "    Does this until m recommendations are found\n",
    "    \n",
    "    Notes:\n",
    "    * Choose the users that have the most total article interactions \n",
    "    before choosing those with fewer article interactions.\n",
    "\n",
    "    * Choose articles with the articles with the most total interactions \n",
    "    before choosing those with fewer total interactions. \n",
    "   \n",
    "    '''\n",
    "    \n",
    "    # Get sorted users based on similarity and number of interactions\n",
    "    top_users = get_top_sorted_users(user_id)\n",
    "    \n",
    "    # Get articles seen by the user\n",
    "    user_articles, _ = get_user_articles(user_id, user_item)\n",
    "    \n",
    "    # Group articles by interaction count\n",
    "    article_interactions = df.groupby('article_id').count()['user_id'].sort_values(ascending=False)\n",
    "    \n",
    "    recs = []\n",
    "    for neighbor_id in top_users['neighbor_id']:\n",
    "        if len(recs) >= m:\n",
    "            break\n",
    "        neighbor_articles, _ = get_user_articles(neighbor_id, user_item)\n",
    "        \n",
    "        # Filter articles the user hasn't seen\n",
    "        new_recs = np.setdiff1d(neighbor_articles, user_articles, assume_unique=True)\n",
    "        \n",
    "        # Sort new recommendations based on article popularity/interaction count\n",
    "        sorted_new_recs = article_interactions.loc[new_recs].sort_values(ascending=False).index.tolist()\n",
    "        \n",
    "        # Extend the recommendation list with sorted articles, avoiding duplicates\n",
    "        for article_id in sorted_new_recs:\n",
    "            if article_id not in recs:\n",
    "                recs.append(article_id)\n",
    "            if len(recs) >= m:\n",
    "                break\n",
    "\n",
    "    # Ensure only the top m recommendations are returned if exceeding the limit\n",
    "    recs = recs[:m]\n",
    "    \n",
    "    # Fetch article names\n",
    "    rec_names = get_article_names(recs, df)\n",
    "    \n",
    "    return recs, rec_names"
   ]
  },
  {
   "cell_type": "code",
   "execution_count": 30,
   "metadata": {},
   "outputs": [
    {
     "name": "stdout",
     "output_type": "stream",
     "text": [
      "The top 10 recommendations for user 20 are the following article ids:\n",
      "['1330.0', '1427.0', '1364.0', '1170.0', '1162.0', '1304.0', '1351.0', '1160.0', '1354.0', '1368.0']\n",
      "\n",
      "The top 10 recommendations for user 20 are the following article names:\n",
      "['apache spark lab, part 1: basic concepts', 'predicting churn with the spss random tree algorithm', 'analyze energy consumption in buildings', 'use xgboost, scikit-learn & ibm watson machine learning apis', 'putting a human face on machine learning', 'gosales transactions for logistic regression model', 'insights from new york car accident reports', 'model bike sharing data with spss', 'analyze accident reports on amazon emr spark', 'movie recommender system with spark machine learning']\n"
     ]
    }
   ],
   "source": [
    "# Quick spot check - don't change this code - just use it to test your functions\n",
    "rec_ids, rec_names = user_user_recs_part2(20, 10)\n",
    "print(\"The top 10 recommendations for user 20 are the following article ids:\")\n",
    "print(rec_ids)\n",
    "print()\n",
    "print(\"The top 10 recommendations for user 20 are the following article names:\")\n",
    "print(rec_names)"
   ]
  },
  {
   "cell_type": "markdown",
   "metadata": {},
   "source": [
    "`5.` Use your functions from above to correctly fill in the solutions to the dictionary below.  Then test your dictionary against the solution.  Provide the code you need to answer each following the comments below."
   ]
  },
  {
   "cell_type": "code",
   "execution_count": 31,
   "metadata": {},
   "outputs": [
    {
     "name": "stdout",
     "output_type": "stream",
     "text": [
      "The user that is most similar to user 1 is user 3933.\n",
      "The 10th most similar user to user 131 is user 242.\n"
     ]
    }
   ],
   "source": [
    "### Tests with a dictionary of results\n",
    "\n",
    "user1_most_sim = get_top_sorted_users(1).iloc[0]['neighbor_id'] # Find the user that is most similar to user 1 \n",
    "user131_10th_sim = get_top_sorted_users(131).iloc[9]['neighbor_id'] # Find the 10th most similar user to user 131\n",
    "\n",
    "print(f\"The user that is most similar to user 1 is user {user1_most_sim}.\")\n",
    "print(f\"The 10th most similar user to user 131 is user {user131_10th_sim}.\")"
   ]
  },
  {
   "cell_type": "code",
   "execution_count": 32,
   "metadata": {},
   "outputs": [
    {
     "name": "stdout",
     "output_type": "stream",
     "text": [
      "This all looks good!  Nice job!\n"
     ]
    }
   ],
   "source": [
    "## Dictionary Test Here\n",
    "sol_5_dict = {\n",
    "    'The user that is most similar to user 1.': user1_most_sim, \n",
    "    'The user that is the 10th most similar to user 131': user131_10th_sim,\n",
    "}\n",
    "\n",
    "t.sol_5_test(sol_5_dict)"
   ]
  },
  {
   "cell_type": "markdown",
   "metadata": {},
   "source": [
    "`6.` If we were given a new user, which of the above functions would you be able to use to make recommendations?  Explain.  Can you think of a better way we might make recommendations?  Use the cell below to explain a better method for new users."
   ]
  },
  {
   "cell_type": "markdown",
   "metadata": {},
   "source": [
    "For a new user, often referred to as the \"Cold Start\" problem, user-based collaborative filtering methods (like those implemented in find_similar_users, get_user_articles, and user_user_recs_part2) would not be effective. This is because these methods rely on the user's past interactions to find similar users or items, and a new user would have no such history."
   ]
  },
  {
   "cell_type": "markdown",
   "metadata": {},
   "source": [
    "# Better Methods for New Users:"
   ]
  },
  {
   "cell_type": "markdown",
   "metadata": {},
   "source": [
    "1. Rank-Based Recommendations:\n",
    "\n",
    "Use the get_top_article_ids or get_top_articles functions to recommend the most popular articles across all users. This approach doesn't require user-specific interaction data and is suitable for new users.\n",
    "This method assumes that what is popular among all users might also be of interest to the new user.\n",
    "\n",
    "2. Content-Based Filtering:\n",
    "\n",
    "Develop a model that uses article content (like article text or tags) to recommend articles similar to those that a user has read. For new users, you could ask them to select a few topics of interest at signup and use those preferences to seed their recommendations.\n",
    "For a brand new user without any interactions, recommendations could be based on featured or trending content within their expressed topics of interest."
   ]
  },
  {
   "cell_type": "markdown",
   "metadata": {},
   "source": [
    "**Provide your response here.**"
   ]
  },
  {
   "cell_type": "markdown",
   "metadata": {},
   "source": [
    "`7.` Using your existing functions, provide the top 10 recommended articles you would provide for the a new user below.  You can test your function against our thoughts to make sure we are all on the same page with how we might make a recommendation."
   ]
  },
  {
   "cell_type": "code",
   "execution_count": 33,
   "metadata": {},
   "outputs": [
    {
     "name": "stdout",
     "output_type": "stream",
     "text": [
      "Top 10 recommended article IDs for a new user: ['1429.0', '1330.0', '1431.0', '1427.0', '1364.0', '1314.0', '1293.0', '1170.0', '1162.0', '1304.0']\n"
     ]
    }
   ],
   "source": [
    "new_user = '0.0'\n",
    "\n",
    "# What would your recommendations be for this new user '0.0'?  As a new user, they have no observed articles.\n",
    "# Provide a list of the top 10 article ids you would give to \n",
    "new_user_recs = get_top_article_ids(10, df) \n",
    "\n",
    "# Ensure the article IDs are in string format as specified\n",
    "new_user_recs = [str(article_id) for article_id in new_user_recs]\n",
    "\n",
    "print(\"Top 10 recommended article IDs for a new user:\", new_user_recs)\n"
   ]
  },
  {
   "cell_type": "code",
   "execution_count": 34,
   "metadata": {},
   "outputs": [
    {
     "name": "stdout",
     "output_type": "stream",
     "text": [
      "That's right!  Nice job!\n"
     ]
    }
   ],
   "source": [
    "assert set(new_user_recs) == set(['1314.0','1429.0','1293.0','1427.0','1162.0','1364.0','1304.0','1170.0','1431.0','1330.0']), \"Oops!  It makes sense that in this case we would want to recommend the most popular articles, because we don't know anything about these users.\"\n",
    "\n",
    "print(\"That's right!  Nice job!\")"
   ]
  },
  {
   "cell_type": "markdown",
   "metadata": {},
   "source": [
    "### <a class=\"anchor\" id=\"Content-Recs\">Part IV: Content Based Recommendations (EXTRA - NOT REQUIRED)</a>\n",
    "\n",
    "Another method we might use to make recommendations is to perform a ranking of the highest ranked articles associated with some term.  You might consider content to be the **doc_body**, **doc_description**, or **doc_full_name**.  There isn't one way to create a content based recommendation, especially considering that each of these columns hold content related information.  \n",
    "\n",
    "`1.` Use the function body below to create a content based recommender.  Since there isn't one right answer for this recommendation tactic, no test functions are provided.  Feel free to change the function inputs if you decide you want to try a method that requires more input values.  The input values are currently set with one idea in mind that you may use to make content based recommendations.  One additional idea is that you might want to choose the most popular recommendations that meet your 'content criteria', but again, there is a lot of flexibility in how you might make these recommendations.\n",
    "\n",
    "### This part is NOT REQUIRED to pass this project.  However, you may choose to take this on as an extra way to show off your skills."
   ]
  },
  {
   "cell_type": "code",
   "execution_count": 35,
   "metadata": {},
   "outputs": [],
   "source": [
    "from sklearn.feature_extraction.text import TfidfVectorizer \n",
    "from sklearn.metrics.pairwise import linear_kernel\n",
    "\n",
    "def make_content_recs(article_id, df_content=df_content, top_n=10):\n",
    "    \"\"\"\n",
    "    INPUT:\n",
    "    article_id - (str) a article_id from df_content\n",
    "    df_content - (pandas dataframe) dataframe as defined at the top of the notebook containing article content\n",
    "    top_n - (int) the number of recommendations to return\n",
    "    \n",
    "    OUTPUT:\n",
    "    recommendations - (list) a list of article_ids that are recommended based on content similarity\n",
    "    \n",
    "    Description:\n",
    "    This function computes the TF-IDF vectorization of article content and uses cosine similarity\n",
    "    to find the most similar articles to the provided article_id.\n",
    "    \"\"\"\n",
    "    \n",
    "    # Fill any missing values\n",
    "    df_content_filled = df_content.fillna(\"\")\n",
    "    \n",
    "    # Combine doc_body, doc_description, and doc_full_name to form a combined content column\n",
    "    df_content_filled['combined_content'] = df_content_filled['doc_body'] + \" \" + \\\n",
    "                                            df_content_filled['doc_description'] + \" \" + \\\n",
    "                                            df_content_filled['doc_full_name']\n",
    "   \n",
    "    # Additional checks for article_id existence\n",
    "    if article_id not in df_content_filled['article_id'].values:\n",
    "        print(f\"Article ID {article_id} not found in the content.\")\n",
    "        return []\n",
    "    \n",
    "    # Initialize a TfidfVectorizer\n",
    "    tfidf = TfidfVectorizer(stop_words='english')\n",
    "    \n",
    "    # Fit and transform the combined content to form TF-IDF matrix\n",
    "    tfidf_matrix = tfidf.fit_transform(df_content_filled['combined_content'])\n",
    "    \n",
    "    # Compute the cosine similarity matrix\n",
    "    cosine_sim = linear_kernel(tfidf_matrix, tfidf_matrix)\n",
    "    \n",
    "    # Get the index of the article that matches the article_id\n",
    "    idx = df_content_filled.index[df_content_filled['article_id'] == article_id].tolist()[0]\n",
    "    \n",
    "    # Get the pairwsie similarity scores of all articles with that article\n",
    "    sim_scores = list(enumerate(cosine_sim[idx]))\n",
    "    \n",
    "    # Sort the articles based on the similarity scores\n",
    "    sim_scores = sorted(sim_scores, key=lambda x: x[1], reverse=True)\n",
    "    \n",
    "    # Get the scores of the top_n most similar articles\n",
    "    sim_scores = sim_scores[1:top_n+1]  # exclude the first one since it's the article itself\n",
    "    \n",
    "    # Get the article indices\n",
    "    article_indices = [i[0] for i in sim_scores]\n",
    "    \n",
    "    # Return the top_n most similar article IDs\n",
    "    recommendations = df_content_filled.iloc[article_indices]['article_id'].tolist()\n",
    "    \n",
    "    return recommendations"
   ]
  },
  {
   "cell_type": "code",
   "execution_count": 36,
   "metadata": {},
   "outputs": [
    {
     "name": "stdout",
     "output_type": "stream",
     "text": [
      "Recommended article IDs for article 1024: [919, 656]\n"
     ]
    }
   ],
   "source": [
    "# Define the article_id from which we want to find similar articles\n",
    "article_id_to_test = 1024\n",
    "\n",
    "# Test the function to get top 2 similar articles\n",
    "recommendations = make_content_recs(article_id_to_test, df_content, top_n=2)\n",
    "\n",
    "# Print the recommended article IDs\n",
    "print(\"Recommended article IDs for article {}: {}\".format(article_id_to_test, recommendations))"
   ]
  },
  {
   "cell_type": "markdown",
   "metadata": {},
   "source": [
    "`2.` Now that you have put together your content-based recommendation system, use the cell below to write a summary explaining how your content based recommender works.  Do you see any possible improvements that could be made to your function?  Is there anything novel about your content based recommender?\n",
    "\n",
    "### This part is NOT REQUIRED to pass this project.  However, you may choose to take this on as an extra way to show off your skills."
   ]
  },
  {
   "cell_type": "markdown",
   "metadata": {},
   "source": [
    "**Write an explanation of your content based recommendation system here.**"
   ]
  },
  {
   "cell_type": "markdown",
   "metadata": {},
   "source": [
    "# Possible Improvements:"
   ]
  },
  {
   "cell_type": "markdown",
   "metadata": {},
   "source": [
    "## Text Preprocessing: \n",
    "\n",
    "Before vectorization, preprocessing the text data could improve the quality of recommendations. This could include steps like lowercasing, removing punctuation, lemmatization, and removing stop words to reduce noise."
   ]
  },
  {
   "cell_type": "code",
   "execution_count": 37,
   "metadata": {},
   "outputs": [
    {
     "data": {
      "text/plain": [
       "\"\\n# Example preprocessing step\\nfrom sklearn.feature_extraction.text import TfidfVectorizer\\nfrom nltk.corpus import stopwords\\nimport re\\nfrom nltk.stem import WordNetLemmatizer\\nimport nltk\\nnltk.download(['stopwords','wordnet'])\\n\\nlemmatizer = WordNetLemmatizer()\\nstop_words = stopwords.words('english')\\n\\ndef preprocess_text(text):\\n    # Lowercase\\n    text = text.lower()\\n    # Remove non-alphabetic characters\\n    text = re.sub(r'[^a-zA-Z\\\\s]', '', text)\\n    # Lemmatize and remove stop words\\n    text = ' '.join([lemmatizer.lemmatize(word) for word in text.split() if word not in stop_words])\\n    return text\\n\\n# Assuming df_content is available and preprocess_text is defined\\ndf_content['combined_content'] = df_content.apply(lambda x: preprocess_text(x['doc_body'] + ' ' + x['doc_description'] + ' ' + x['doc_full_name']), axis=1)\\n\\n# Continue with TF-IDF vectorization\\ntfidf = TfidfVectorizer(stop_words='english')\\ntfidf_matrix = tfidf.fit_transform(df_content['combined_content'])\\n\\n\\n# Followed by similarity calculation and recommendation generation as before\\n\""
      ]
     },
     "execution_count": 37,
     "metadata": {},
     "output_type": "execute_result"
    }
   ],
   "source": [
    "'''\n",
    "# Example preprocessing step\n",
    "from sklearn.feature_extraction.text import TfidfVectorizer\n",
    "from nltk.corpus import stopwords\n",
    "import re\n",
    "from nltk.stem import WordNetLemmatizer\n",
    "import nltk\n",
    "nltk.download(['stopwords','wordnet'])\n",
    "\n",
    "lemmatizer = WordNetLemmatizer()\n",
    "stop_words = stopwords.words('english')\n",
    "\n",
    "def preprocess_text(text):\n",
    "    # Lowercase\n",
    "    text = text.lower()\n",
    "    # Remove non-alphabetic characters\n",
    "    text = re.sub(r'[^a-zA-Z\\s]', '', text)\n",
    "    # Lemmatize and remove stop words\n",
    "    text = ' '.join([lemmatizer.lemmatize(word) for word in text.split() if word not in stop_words])\n",
    "    return text\n",
    "\n",
    "# Assuming df_content is available and preprocess_text is defined\n",
    "df_content['combined_content'] = df_content.apply(lambda x: preprocess_text(x['doc_body'] + ' ' + x['doc_description'] + ' ' + x['doc_full_name']), axis=1)\n",
    "\n",
    "# Continue with TF-IDF vectorization\n",
    "tfidf = TfidfVectorizer(stop_words='english')\n",
    "tfidf_matrix = tfidf.fit_transform(df_content['combined_content'])\n",
    "\n",
    "\n",
    "# Followed by similarity calculation and recommendation generation as before\n",
    "'''"
   ]
  },
  {
   "cell_type": "markdown",
   "metadata": {},
   "source": [
    "`3.` Use your content-recommendation system to make recommendations for the below scenarios based on the comments.  Again no tests are provided here, because there isn't one right answer that could be used to find these content based recommendations.\n",
    "\n",
    "### This part is NOT REQUIRED to pass this project.  However, you may choose to take this on as an extra way to show off your skills."
   ]
  },
  {
   "cell_type": "code",
   "execution_count": 38,
   "metadata": {},
   "outputs": [
    {
     "data": {
      "text/plain": [
       "'\\n# make recommendations for a brand new user\\ndef recommend_for_new_user(top_n=5, df_content=df_content):\\n    \"\"\"\\n    Recommends articles for a new user based on content popularity or diversity.\\n    \"\"\"\\n    # Assuming get_top_article_ids was implemented to fetch popular articles\\n    # Here we simulate fetching articles based on diversity or recency\\n    diverse_articles = df_content.sample(n=top_n)[\\'article_id\\'].tolist()\\n    recommendations = get_article_names(diverse_articles, df_content)\\n    \\n    return recommendations\\nrecommended_article_ids = recommend_for_new_user()\\nprint(\"Content-based recommendations of articles for new user: \",recommended_article_ids)\\n\\n# make a recommendations for a user who only has interacted with article id \\'1427.0\\'\\nrecommended_article_ids = make_content_recs(1427.0, df_content, top_n=10)\\n\\nprint(f\"Content-based recommendations for article {1427.0}: {recommended_article_ids}\")\\n'"
      ]
     },
     "execution_count": 38,
     "metadata": {},
     "output_type": "execute_result"
    }
   ],
   "source": [
    "'''\n",
    "# make recommendations for a brand new user\n",
    "def recommend_for_new_user(top_n=5, df_content=df_content):\n",
    "    \"\"\"\n",
    "    Recommends articles for a new user based on content popularity or diversity.\n",
    "    \"\"\"\n",
    "    # Assuming get_top_article_ids was implemented to fetch popular articles\n",
    "    # Here we simulate fetching articles based on diversity or recency\n",
    "    diverse_articles = df_content.sample(n=top_n)['article_id'].tolist()\n",
    "    recommendations = get_article_names(diverse_articles, df_content)\n",
    "    \n",
    "    return recommendations\n",
    "recommended_article_ids = recommend_for_new_user()\n",
    "print(\"Content-based recommendations of articles for new user: \",recommended_article_ids)\n",
    "\n",
    "# make a recommendations for a user who only has interacted with article id '1427.0'\n",
    "recommended_article_ids = make_content_recs(1427.0, df_content, top_n=10)\n",
    "\n",
    "print(f\"Content-based recommendations for article {1427.0}: {recommended_article_ids}\")\n",
    "'''"
   ]
  },
  {
   "cell_type": "markdown",
   "metadata": {},
   "source": [
    "### <a class=\"anchor\" id=\"Matrix-Fact\">Part V: Matrix Factorization</a>\n",
    "\n",
    "In this part of the notebook, you will build use matrix factorization to make article recommendations to the users on the IBM Watson Studio platform.\n",
    "\n",
    "`1.` You should have already created a **user_item** matrix above in **question 1** of **Part III** above.  This first question here will just require that you run the cells to get things set up for the rest of **Part V** of the notebook. "
   ]
  },
  {
   "cell_type": "code",
   "execution_count": 39,
   "metadata": {},
   "outputs": [],
   "source": [
    "# Load the matrix here\n",
    "user_item_matrix = pd.read_pickle('user_item_matrix.p')"
   ]
  },
  {
   "cell_type": "code",
   "execution_count": 40,
   "metadata": {},
   "outputs": [
    {
     "data": {
      "text/html": [
       "<div>\n",
       "<style scoped>\n",
       "    .dataframe tbody tr th:only-of-type {\n",
       "        vertical-align: middle;\n",
       "    }\n",
       "\n",
       "    .dataframe tbody tr th {\n",
       "        vertical-align: top;\n",
       "    }\n",
       "\n",
       "    .dataframe thead th {\n",
       "        text-align: right;\n",
       "    }\n",
       "</style>\n",
       "<table border=\"1\" class=\"dataframe\">\n",
       "  <thead>\n",
       "    <tr style=\"text-align: right;\">\n",
       "      <th>article_id</th>\n",
       "      <th>0.0</th>\n",
       "      <th>100.0</th>\n",
       "      <th>1000.0</th>\n",
       "      <th>1004.0</th>\n",
       "      <th>1006.0</th>\n",
       "      <th>1008.0</th>\n",
       "      <th>101.0</th>\n",
       "      <th>1014.0</th>\n",
       "      <th>1015.0</th>\n",
       "      <th>1016.0</th>\n",
       "      <th>...</th>\n",
       "      <th>977.0</th>\n",
       "      <th>98.0</th>\n",
       "      <th>981.0</th>\n",
       "      <th>984.0</th>\n",
       "      <th>985.0</th>\n",
       "      <th>986.0</th>\n",
       "      <th>990.0</th>\n",
       "      <th>993.0</th>\n",
       "      <th>996.0</th>\n",
       "      <th>997.0</th>\n",
       "    </tr>\n",
       "    <tr>\n",
       "      <th>user_id</th>\n",
       "      <th></th>\n",
       "      <th></th>\n",
       "      <th></th>\n",
       "      <th></th>\n",
       "      <th></th>\n",
       "      <th></th>\n",
       "      <th></th>\n",
       "      <th></th>\n",
       "      <th></th>\n",
       "      <th></th>\n",
       "      <th></th>\n",
       "      <th></th>\n",
       "      <th></th>\n",
       "      <th></th>\n",
       "      <th></th>\n",
       "      <th></th>\n",
       "      <th></th>\n",
       "      <th></th>\n",
       "      <th></th>\n",
       "      <th></th>\n",
       "      <th></th>\n",
       "    </tr>\n",
       "  </thead>\n",
       "  <tbody>\n",
       "    <tr>\n",
       "      <th>1</th>\n",
       "      <td>0.0</td>\n",
       "      <td>0.0</td>\n",
       "      <td>0.0</td>\n",
       "      <td>0.0</td>\n",
       "      <td>0.0</td>\n",
       "      <td>0.0</td>\n",
       "      <td>0.0</td>\n",
       "      <td>0.0</td>\n",
       "      <td>0.0</td>\n",
       "      <td>0.0</td>\n",
       "      <td>...</td>\n",
       "      <td>0.0</td>\n",
       "      <td>0.0</td>\n",
       "      <td>1.0</td>\n",
       "      <td>0.0</td>\n",
       "      <td>0.0</td>\n",
       "      <td>0.0</td>\n",
       "      <td>0.0</td>\n",
       "      <td>0.0</td>\n",
       "      <td>0.0</td>\n",
       "      <td>0.0</td>\n",
       "    </tr>\n",
       "    <tr>\n",
       "      <th>2</th>\n",
       "      <td>0.0</td>\n",
       "      <td>0.0</td>\n",
       "      <td>0.0</td>\n",
       "      <td>0.0</td>\n",
       "      <td>0.0</td>\n",
       "      <td>0.0</td>\n",
       "      <td>0.0</td>\n",
       "      <td>0.0</td>\n",
       "      <td>0.0</td>\n",
       "      <td>0.0</td>\n",
       "      <td>...</td>\n",
       "      <td>0.0</td>\n",
       "      <td>0.0</td>\n",
       "      <td>0.0</td>\n",
       "      <td>0.0</td>\n",
       "      <td>0.0</td>\n",
       "      <td>0.0</td>\n",
       "      <td>0.0</td>\n",
       "      <td>0.0</td>\n",
       "      <td>0.0</td>\n",
       "      <td>0.0</td>\n",
       "    </tr>\n",
       "    <tr>\n",
       "      <th>3</th>\n",
       "      <td>0.0</td>\n",
       "      <td>0.0</td>\n",
       "      <td>0.0</td>\n",
       "      <td>0.0</td>\n",
       "      <td>0.0</td>\n",
       "      <td>0.0</td>\n",
       "      <td>0.0</td>\n",
       "      <td>0.0</td>\n",
       "      <td>0.0</td>\n",
       "      <td>0.0</td>\n",
       "      <td>...</td>\n",
       "      <td>1.0</td>\n",
       "      <td>0.0</td>\n",
       "      <td>0.0</td>\n",
       "      <td>0.0</td>\n",
       "      <td>0.0</td>\n",
       "      <td>0.0</td>\n",
       "      <td>0.0</td>\n",
       "      <td>0.0</td>\n",
       "      <td>0.0</td>\n",
       "      <td>0.0</td>\n",
       "    </tr>\n",
       "    <tr>\n",
       "      <th>4</th>\n",
       "      <td>0.0</td>\n",
       "      <td>0.0</td>\n",
       "      <td>0.0</td>\n",
       "      <td>0.0</td>\n",
       "      <td>0.0</td>\n",
       "      <td>0.0</td>\n",
       "      <td>0.0</td>\n",
       "      <td>0.0</td>\n",
       "      <td>0.0</td>\n",
       "      <td>0.0</td>\n",
       "      <td>...</td>\n",
       "      <td>0.0</td>\n",
       "      <td>0.0</td>\n",
       "      <td>0.0</td>\n",
       "      <td>0.0</td>\n",
       "      <td>0.0</td>\n",
       "      <td>0.0</td>\n",
       "      <td>0.0</td>\n",
       "      <td>0.0</td>\n",
       "      <td>0.0</td>\n",
       "      <td>0.0</td>\n",
       "    </tr>\n",
       "    <tr>\n",
       "      <th>5</th>\n",
       "      <td>0.0</td>\n",
       "      <td>0.0</td>\n",
       "      <td>0.0</td>\n",
       "      <td>0.0</td>\n",
       "      <td>0.0</td>\n",
       "      <td>0.0</td>\n",
       "      <td>0.0</td>\n",
       "      <td>0.0</td>\n",
       "      <td>0.0</td>\n",
       "      <td>0.0</td>\n",
       "      <td>...</td>\n",
       "      <td>0.0</td>\n",
       "      <td>0.0</td>\n",
       "      <td>0.0</td>\n",
       "      <td>0.0</td>\n",
       "      <td>0.0</td>\n",
       "      <td>0.0</td>\n",
       "      <td>0.0</td>\n",
       "      <td>0.0</td>\n",
       "      <td>0.0</td>\n",
       "      <td>0.0</td>\n",
       "    </tr>\n",
       "  </tbody>\n",
       "</table>\n",
       "<p>5 rows × 714 columns</p>\n",
       "</div>"
      ],
      "text/plain": [
       "article_id  0.0  100.0  1000.0  1004.0  1006.0  1008.0  101.0  1014.0  1015.0  \\\n",
       "user_id                                                                         \n",
       "1           0.0    0.0     0.0     0.0     0.0     0.0    0.0     0.0     0.0   \n",
       "2           0.0    0.0     0.0     0.0     0.0     0.0    0.0     0.0     0.0   \n",
       "3           0.0    0.0     0.0     0.0     0.0     0.0    0.0     0.0     0.0   \n",
       "4           0.0    0.0     0.0     0.0     0.0     0.0    0.0     0.0     0.0   \n",
       "5           0.0    0.0     0.0     0.0     0.0     0.0    0.0     0.0     0.0   \n",
       "\n",
       "article_id  1016.0  ...    977.0  98.0  981.0  984.0  985.0  986.0  990.0  \\\n",
       "user_id             ...                                                     \n",
       "1              0.0  ...      0.0   0.0    1.0    0.0    0.0    0.0    0.0   \n",
       "2              0.0  ...      0.0   0.0    0.0    0.0    0.0    0.0    0.0   \n",
       "3              0.0  ...      1.0   0.0    0.0    0.0    0.0    0.0    0.0   \n",
       "4              0.0  ...      0.0   0.0    0.0    0.0    0.0    0.0    0.0   \n",
       "5              0.0  ...      0.0   0.0    0.0    0.0    0.0    0.0    0.0   \n",
       "\n",
       "article_id  993.0  996.0  997.0  \n",
       "user_id                          \n",
       "1             0.0    0.0    0.0  \n",
       "2             0.0    0.0    0.0  \n",
       "3             0.0    0.0    0.0  \n",
       "4             0.0    0.0    0.0  \n",
       "5             0.0    0.0    0.0  \n",
       "\n",
       "[5 rows x 714 columns]"
      ]
     },
     "execution_count": 40,
     "metadata": {},
     "output_type": "execute_result"
    }
   ],
   "source": [
    "# quick look at the matrix\n",
    "user_item_matrix.head()"
   ]
  },
  {
   "cell_type": "markdown",
   "metadata": {},
   "source": [
    "`2.` In this situation, you can use Singular Value Decomposition from [numpy](https://docs.scipy.org/doc/numpy-1.14.0/reference/generated/numpy.linalg.svd.html) on the user-item matrix.  Use the cell to perform SVD, and explain why this is different than in the lesson."
   ]
  },
  {
   "cell_type": "code",
   "execution_count": 41,
   "metadata": {},
   "outputs": [],
   "source": [
    "# Perform SVD on the User-Item Matrix Here\n",
    "\n",
    "u, s, vt = np.linalg.svd(user_item, full_matrices=False)# use the built in to get the three matrices"
   ]
  },
  {
   "cell_type": "markdown",
   "metadata": {},
   "source": [
    "**Provide your response here.**"
   ]
  },
  {
   "cell_type": "markdown",
   "metadata": {},
   "source": [
    "## Absence of NaNs: \n",
    "If the User-Item matrix in your context does not contain NaN values, because the user-item interactions are modeled simply as 0 (no interaction) or 1 (interaction occurred); then every entry in the matrix is known. This fully observed matrix negates the need for FunkSVD, which is specifically designed to handle missing data.\n",
    "\n",
    "## Simplicity of the Model: \n",
    "By using a binary representation (0-1) for user-item interactions, the matrix avoids the complications that arise with sparse, real-valued matrices (e.g., ratings). This simplification makes traditional SVD suitable because it can leverage the complete dataset without needing to account for or impute missing values."
   ]
  },
  {
   "cell_type": "markdown",
   "metadata": {},
   "source": [
    "`3.` Now for the tricky part, how do we choose the number of latent features to use?  Running the below cell, you can see that as the number of latent features increases, we obtain a lower error rate on making predictions for the 1 and 0 values in the user-item matrix.  Run the cell below to get an idea of how the accuracy improves as we increase the number of latent features."
   ]
  },
  {
   "cell_type": "code",
   "execution_count": 42,
   "metadata": {},
   "outputs": [
    {
     "data": {
      "image/png": "[encoded data removed]",
      "text/plain": [
       "<matplotlib.figure.Figure at 0x7faaae0b2cf8>"
      ]
     },
     "metadata": {
      "needs_background": "light"
     },
     "output_type": "display_data"
    }
   ],
   "source": [
    "num_latent_feats = np.arange(10,700+10,20)\n",
    "sum_errs = []\n",
    "\n",
    "for k in num_latent_feats:\n",
    "    # restructure with k latent features\n",
    "    s_new, u_new, vt_new = np.diag(s[:k]), u[:, :k], vt[:k, :]\n",
    "    \n",
    "    # take dot product\n",
    "    user_item_est = np.around(np.dot(np.dot(u_new, s_new), vt_new))\n",
    "    \n",
    "    # compute error for each prediction to actual value\n",
    "    diffs = np.subtract(user_item_matrix, user_item_est)\n",
    "    \n",
    "    # total errors and keep track of them\n",
    "    err = np.sum(np.sum(np.abs(diffs)))\n",
    "    sum_errs.append(err)\n",
    "    \n",
    "    \n",
    "plt.plot(num_latent_feats, 1 - np.array(sum_errs)/df.shape[0]);\n",
    "plt.xlabel('Number of Latent Features');\n",
    "plt.ylabel('Accuracy');\n",
    "plt.title('Accuracy vs. Number of Latent Features');"
   ]
  },
  {
   "cell_type": "markdown",
   "metadata": {},
   "source": [
    "`4.` From the above, we can't really be sure how many features to use, because simply having a better way to predict the 1's and 0's of the matrix doesn't exactly give us an indication of if we are able to make good recommendations.  Instead, we might split our dataset into a training and test set of data, as shown in the cell below.  \n",
    "\n",
    "Use the code from question 3 to understand the impact on accuracy of the training and test sets of data with different numbers of latent features. Using the split below: \n",
    "\n",
    "* How many users can we make predictions for in the test set?  \n",
    "* How many users are we not able to make predictions for because of the cold start problem?\n",
    "* How many articles can we make predictions for in the test set?  \n",
    "* How many articles are we not able to make predictions for because of the cold start problem?"
   ]
  },
  {
   "cell_type": "code",
   "execution_count": 43,
   "metadata": {},
   "outputs": [],
   "source": [
    "df_train = df.head(40000)\n",
    "df_test = df.tail(5993)\n",
    "\n",
    "def create_test_and_train_user_item(df_train, df_test):\n",
    "    '''\n",
    "    INPUT:\n",
    "    df_train - training dataframe\n",
    "    df_test - test dataframe\n",
    "    \n",
    "    OUTPUT:\n",
    "    user_item_train - a user-item matrix of the training dataframe \n",
    "                      (unique users for each row and unique articles for each column)\n",
    "    user_item_test - a user-item matrix of the testing dataframe \n",
    "                    (unique users for each row and unique articles for each column)\n",
    "    test_idx - all of the test user ids\n",
    "    test_arts - all of the test article ids\n",
    "    \n",
    "    '''\n",
    "    \n",
    "    # Create user-item matrix for the training data\n",
    "    user_item_train = df_train.groupby(['user_id', 'article_id']).size().unstack(fill_value=0)\n",
    "    user_item_train = user_item_train.applymap(lambda x: 1 if x > 0 else 0)\n",
    "    \n",
    "    # Create user-item matrix for the testing data\n",
    "    user_item_test = df_test.groupby(['user_id', 'article_id']).size().unstack(fill_value=0)\n",
    "    user_item_test = user_item_test.applymap(lambda x: 1 if x > 0 else 0)\n",
    "    \n",
    "    # Extract all user ids from the test set\n",
    "    test_idx = list(df_test['user_id'].unique())\n",
    "    \n",
    "    # Extract all article ids from the test set\n",
    "    test_arts = list(df_test['article_id'].unique())\n",
    "    \n",
    "    return user_item_train, user_item_test, test_idx, test_arts\n",
    "\n",
    "user_item_train, user_item_test, test_idx, test_arts = create_test_and_train_user_item(df_train, df_test)"
   ]
  },
  {
   "cell_type": "code",
   "execution_count": 44,
   "metadata": {},
   "outputs": [
    {
     "name": "stdout",
     "output_type": "stream",
     "text": [
      "How many users can we make predictions for in the test set?:  20\n",
      "How many users are we not able to make predictions for because of the cold start problem?:  662\n",
      "How many articles can we make predictions for in the test set?:  574\n",
      "How many articles are we not able to make predictions for because of the cold start problem?:  0\n"
     ]
    }
   ],
   "source": [
    "# How many users can we make predictions for in the test set?\n",
    "users_in_both_sets = user_item_train.index.isin(test_idx)\n",
    "users_can_predict = sum(users_in_both_sets)\n",
    "print(\"How many users can we make predictions for in the test set?: \", users_can_predict)\n",
    "\n",
    "# How many users are we not able to make predictions for because of the cold start problem?\n",
    "users_cannot_predict = len(test_idx) - users_can_predict\n",
    "print(\"How many users are we not able to make predictions for because of the cold start problem?: \", users_cannot_predict)\n",
    "\n",
    "# How many articles can we make predictions for in the test set?\n",
    "articles_in_both_sets = user_item_train.columns.isin(test_arts)\n",
    "articles_can_predict = sum(articles_in_both_sets)\n",
    "print(\"How many articles can we make predictions for in the test set?: \", articles_can_predict)\n",
    "\n",
    "# How many articles are we not able to make predictions for because of the cold start problem?\n",
    "articles_cannot_predict = len(test_arts) - articles_can_predict\n",
    "print(\"How many articles are we not able to make predictions for because of the cold start problem?: \", articles_cannot_predict)"
   ]
  },
  {
   "cell_type": "code",
   "execution_count": 45,
   "metadata": {},
   "outputs": [
    {
     "name": "stdout",
     "output_type": "stream",
     "text": [
      "Awesome job!  That's right!  All of the test articles are in the training data, but there are only 20 test users that were also in the training set.  All of the other users that are in the test set we have no data on.  Therefore, we cannot make predictions for these users using SVD.\n"
     ]
    }
   ],
   "source": [
    "# Replace the values in the dictionary below\n",
    "a = 662 \n",
    "b = 574 \n",
    "c = 20 \n",
    "d = 0 \n",
    "\n",
    "\n",
    "sol_4_dict = {\n",
    "    'How many users can we make predictions for in the test set?': c, \n",
    "    'How many users in the test set are we not able to make predictions for because of the cold start problem?': a, \n",
    "    'How many articles can we make predictions for in the test set?': b,\n",
    "    'How many articles in the test set are we not able to make predictions for because of the cold start problem?': d\n",
    "}\n",
    "\n",
    "t.sol_4_test(sol_4_dict)"
   ]
  },
  {
   "cell_type": "markdown",
   "metadata": {},
   "source": [
    "`5.` Now use the **user_item_train** dataset from above to find U, S, and V transpose using SVD. Then find the subset of rows in the **user_item_test** dataset that you can predict using this matrix decomposition with different numbers of latent features to see how many features makes sense to keep based on the accuracy on the test data. This will require combining what was done in questions `2` - `4`.\n",
    "\n",
    "Use the cells below to explore how well SVD works towards making predictions for recommendations on the test data.  "
   ]
  },
  {
   "cell_type": "code",
   "execution_count": 46,
   "metadata": {},
   "outputs": [],
   "source": [
    "# fit SVD on the user_item_train matrix\n",
    "u_train, s_train, vt_train =np.linalg.svd(user_item_train, full_matrices=False) # fit svd similar to above then use the cells below"
   ]
  },
  {
   "cell_type": "code",
   "execution_count": 47,
   "metadata": {},
   "outputs": [],
   "source": [
    "# Use these cells to see how well you can use the training \n",
    "# decomposition to predict on test data"
   ]
  },
  {
   "cell_type": "code",
   "execution_count": 48,
   "metadata": {},
   "outputs": [],
   "source": [
    "# Find test users and articles that are also in the training set\n",
    "test_users_subset = np.intersect1d(user_item_test.index, user_item_train.index)\n",
    "test_articles_subset = np.intersect1d(user_item_test.columns, user_item_train.columns)\n",
    "\n",
    "# Create the test user-item matrix for users and articles that also exist in the training set\n",
    "user_item_test_subset = user_item_test.loc[test_users_subset, test_articles_subset]"
   ]
  },
  {
   "cell_type": "code",
   "execution_count": 49,
   "metadata": {},
   "outputs": [
    {
     "name": "stdout",
     "output_type": "stream",
     "text": [
      "Latent Features: 10, Accuracy: 0.9784\n",
      "Latent Features: 30, Accuracy: 0.9766\n",
      "Latent Features: 50, Accuracy: 0.9753\n",
      "Latent Features: 70, Accuracy: 0.9736\n",
      "Latent Features: 90, Accuracy: 0.9723\n",
      "Latent Features: 110, Accuracy: 0.9705\n",
      "Latent Features: 130, Accuracy: 0.9695\n",
      "Latent Features: 150, Accuracy: 0.9687\n",
      "Latent Features: 170, Accuracy: 0.9680\n",
      "Latent Features: 190, Accuracy: 0.9673\n",
      "Latent Features: 210, Accuracy: 0.9666\n",
      "Latent Features: 230, Accuracy: 0.9663\n",
      "Latent Features: 250, Accuracy: 0.9658\n",
      "Latent Features: 270, Accuracy: 0.9654\n",
      "Latent Features: 290, Accuracy: 0.9652\n",
      "Latent Features: 310, Accuracy: 0.9648\n",
      "Latent Features: 330, Accuracy: 0.9648\n",
      "Latent Features: 350, Accuracy: 0.9646\n",
      "Latent Features: 370, Accuracy: 0.9646\n",
      "Latent Features: 390, Accuracy: 0.9645\n",
      "Latent Features: 410, Accuracy: 0.9645\n",
      "Latent Features: 430, Accuracy: 0.9645\n",
      "Latent Features: 450, Accuracy: 0.9645\n",
      "Latent Features: 470, Accuracy: 0.9645\n",
      "Latent Features: 490, Accuracy: 0.9645\n",
      "Latent Features: 510, Accuracy: 0.9645\n",
      "Latent Features: 530, Accuracy: 0.9645\n",
      "Latent Features: 550, Accuracy: 0.9645\n",
      "Latent Features: 570, Accuracy: 0.9645\n",
      "Latent Features: 590, Accuracy: 0.9645\n",
      "Latent Features: 610, Accuracy: 0.9645\n",
      "Latent Features: 630, Accuracy: 0.9645\n",
      "Latent Features: 650, Accuracy: 0.9645\n",
      "Latent Features: 670, Accuracy: 0.9645\n",
      "Latent Features: 690, Accuracy: 0.9645\n"
     ]
    }
   ],
   "source": [
    "from sklearn.metrics import accuracy_score\n",
    "\n",
    "num_latent_feats = np.arange(10,700+10,20)\n",
    "sum_errs = []\n",
    "\n",
    "for k in num_latent_feats:\n",
    "    # restructure with k latent features\n",
    "    s_train_k, u_train_k, vt_train_k = np.diag(s_train[:k]), u_train[:, :k], vt_train[:k, :]\n",
    "    \n",
    "    # take dot product\n",
    "    user_item_est = np.dot(np.dot(u_train_k, s_train_k), vt_train_k)\n",
    "    \n",
    "    # Get the subset of rows from the estimated matrix that matches the test set subset\n",
    "    user_row_idxs = user_item_train.index.isin(test_users_subset)\n",
    "    article_col_idxs = user_item_train.columns.isin(test_articles_subset)\n",
    "    user_item_est_subset = user_item_est[user_row_idxs, :][:, article_col_idxs]\n",
    "    \n",
    "    # Calculate the error for each prediction to actual value\n",
    "    diffs = np.subtract(user_item_test_subset.values, user_item_est_subset)\n",
    "    \n",
    "    # Calculate the overall error\n",
    "    err = np.sum(np.sum(np.abs(diffs)))\n",
    "    sum_errs.append(err)\n",
    "    \n",
    "    # Calculate accuracy\n",
    "    preds_binary = user_item_est_subset.round()\n",
    "    accuracy = accuracy_score(user_item_test_subset.values.flatten(), preds_binary.flatten())\n",
    "    print(f\"Latent Features: {k}, Accuracy: {accuracy:.4f}\")"
   ]
  },
  {
   "cell_type": "markdown",
   "metadata": {
    "collapsed": true
   },
   "source": [
    "`6.` Use the cell below to comment on the results you found in the previous question. Given the circumstances of your results, discuss what you might do to determine if the recommendations you make with any of the above recommendation systems are an improvement to how users currently find articles? "
   ]
  },
  {
   "cell_type": "markdown",
   "metadata": {},
   "source": [
    "**Your response here.**"
   ]
  },
  {
   "cell_type": "markdown",
   "metadata": {},
   "source": [
    "The results from the previous question show an interesting trend, as the number of latent features increases, the accuracy of predictions on the test data slightly decreases. This might seem counterintuitive initially, but it can be explained by the concept of overfitting. When the model uses more latent features, it becomes more tailored to the training data (hence possibly achieving higher accuracy there), but it may not generalize well to unseen data, leading to a decrease in test accuracy.\n",
    "\n",
    "# Observations:\n",
    "## High Baseline Accuracy: \n",
    "The accuracy starts very high (at 0.9784 for 10 latent features) and only slightly decreases as the number of latent features increases. This high baseline could be due to the sparsity of the user-item matrix where the majority of entries are zeros, meaning that predicting a non-interaction is often correct.\n",
    "\n",
    "## Diminishing Returns on Adding Features: \n",
    "The incremental decrease in accuracy suggests diminishing returns on adding more latent features beyond a certain point. It indicates that a relatively small number of latent features are sufficient to capture the majority of the useful variance in the data.\n",
    "\n",
    "# Recommendations for Evaluation:\n",
    "Given these observations, determining the effectiveness of the recommendation systems (SVD-based or others) in improving user engagement with articles requires a more holistic evaluation approach beyond accuracy:\n",
    "\n",
    "## A/B Testing: \n",
    "Implement A/B testing by exposing one group of users to recommendations generated by the SVD model and another group to a control version (e.g., random recommendations or no recommendations). Metrics such as click-through rates, time spent on recommended articles, or number of articles read could provide direct evidence of the system's effectiveness.\n",
    "\n",
    "## Diversity and Novelty: \n",
    "Evaluate the diversity and novelty of the recommendations. A system that suggests a wide range of topics or uncovers less obvious articles might enhance user engagement by providing a more enriching experience.\n",
    "\n",
    "## User Satisfaction Surveys: \n",
    "Collect user feedback on the relevance and usefulness of recommendations through surveys. User perceptions can offer valuable insights that raw performance metrics might not capture.\n",
    "\n",
    "## Usage Metrics: \n",
    "Monitor changes in overall platform engagement metrics, such as daily active users or session length, after the introduction of the recommendation system. Improvements in these metrics could indicate a positive impact on user experience.\n",
    "\n",
    "# Conclusion:\n",
    "While the SVD-based recommendation system demonstrates high accuracy, optimizing the number of latent features is crucial to balance model complexity and generalizability. However, assessing the system's real-world effectiveness requires a broader set of evaluation strategies, including A/B testing and user feedback, to ensure that the recommendations meaningfully enhance the user experience. The aim is not just to make accurate predictions but to drive more meaningful interactions on the platform."
   ]
  },
  {
   "cell_type": "markdown",
   "metadata": {
    "collapsed": true
   },
   "source": [
    "<a id='conclusions'></a>\n",
    "### Extras\n",
    "Using your workbook, you could now save your recommendations for each user, develop a class to make new predictions and update your results, and make a flask app to deploy your results.  These tasks are beyond what is required for this project.  However, from what you learned in the lessons, you certainly capable of taking these tasks on to improve upon your work here!\n",
    "\n",
    "\n",
    "## Conclusion\n",
    "\n",
    "> Congratulations!  You have reached the end of the Recommendations with IBM project! \n",
    "\n",
    "> **Tip**: Once you are satisfied with your work here, check over your report to make sure that it is satisfies all the areas of the [rubric](https://review.udacity.com/#!/rubrics/2322/view). You should also probably remove all of the \"Tips\" like this one so that the presentation is as polished as possible.\n",
    "\n",
    "\n",
    "## Directions to Submit\n",
    "\n",
    "> Before you submit your project, you need to create a .html or .pdf version of this notebook in the workspace here. To do that, run the code cell below. If it worked correctly, you should get a return code of 0, and you should see the generated .html file in the workspace directory (click on the orange Jupyter icon in the upper left).\n",
    "\n",
    "> Alternatively, you can download this report as .html via the **File** > **Download as** submenu, and then manually upload it into the workspace directory by clicking on the orange Jupyter icon in the upper left, then using the Upload button.\n",
    "\n",
    "> Once you've done this, you can submit your project by clicking on the \"Submit Project\" button in the lower right here. This will create and submit a zip file with this .ipynb doc and the .html or .pdf version you created. Congratulations! "
   ]
  },
  {
   "cell_type": "code",
   "execution_count": 50,
   "metadata": {},
   "outputs": [
    {
     "data": {
      "text/plain": [
       "0"
      ]
     },
     "execution_count": 50,
     "metadata": {},
     "output_type": "execute_result"
    }
   ],
   "source": [
    "from subprocess import call\n",
    "call(['python', '-m', 'nbconvert', 'Recommendations_with_IBM.ipynb'])"
   ]
  }
 ],
 "metadata": {
  "kernelspec": {
   "display_name": "Python 3",
   "language": "python",
   "name": "python3"
  },
  "language_info": {
   "codemirror_mode": {
    "name": "ipython",
    "version": 3
   },
   "file_extension": ".py",
   "mimetype": "text/x-python",
   "name": "python",
   "nbconvert_exporter": "python",
   "pygments_lexer": "ipython3",
   "version": "3.6.3"
  }
 },
 "nbformat": 4,
 "nbformat_minor": 2
}
